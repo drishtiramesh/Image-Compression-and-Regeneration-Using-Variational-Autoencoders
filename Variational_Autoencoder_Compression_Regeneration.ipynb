{
  "nbformat": 4,
  "nbformat_minor": 0,
  "metadata": {
    "kernelspec": {
      "display_name": "Python 3",
      "language": "python",
      "name": "python3"
    },
    "language_info": {
      "codemirror_mode": {
        "name": "ipython",
        "version": 3
      },
      "file_extension": ".py",
      "mimetype": "text/x-python",
      "name": "python",
      "nbconvert_exporter": "python",
      "pygments_lexer": "ipython3",
      "version": "3.7.5"
    },
    "colab": {
      "name": "Complete.ipynb",
      "provenance": [],
      "toc_visible": true
    }
  },
  "cells": [
    {
      "cell_type": "markdown",
      "metadata": {
        "Collapsed": "false",
        "id": "5Z81WPL1Rg0x",
        "colab_type": "text"
      },
      "source": [
        "# Image Compression and Generation using Variational Autoencoders in Python"
      ]
    },
    {
      "cell_type": "code",
      "metadata": {
        "Collapsed": "false",
        "id": "zLZH8oPfRg0-",
        "colab_type": "code",
        "colab": {}
      },
      "source": [
        "import torch\n",
        "import torch.utils.data\n",
        "from torch import nn, optim\n",
        "from torch.nn import functional as F\n",
        "from torchvision import datasets, transforms\n",
        "from torchvision.utils import save_image\n",
        "\n",
        "from tqdm.notebook import tqdm\n",
        "\n",
        "import os\n",
        "import shutil\n",
        "import random\n",
        "random.seed(5)\n",
        "\n",
        "import matplotlib\n",
        "%matplotlib inline\n",
        "%config InlineBackend.figure_format = 'svg'\n",
        "import matplotlib.pyplot as plt\n",
        "plt.style.use('ggplot')\n",
        "\n",
        "import numpy as np"
      ],
      "execution_count": 0,
      "outputs": []
    },
    {
      "cell_type": "code",
      "metadata": {
        "Collapsed": "false",
        "id": "KzgsPMEdRg1G",
        "colab_type": "code",
        "colab": {},
        "outputId": "8b518def-36aa-4eec-dc4c-4447b2d1d493"
      },
      "source": [
        "epochs = 1000\n",
        "batch_size = 64\n",
        "torch.manual_seed(17)\n",
        "\n",
        "device = torch.device('cuda' if torch.cuda.is_available() else 'cpu')\n",
        "print(f'Device: {device}')"
      ],
      "execution_count": 0,
      "outputs": [
        {
          "output_type": "stream",
          "text": [
            "Device: cpu\n"
          ],
          "name": "stdout"
        }
      ]
    },
    {
      "cell_type": "markdown",
      "metadata": {
        "Collapsed": "false",
        "id": "zGctTDB6Rg1Q",
        "colab_type": "text"
      },
      "source": [
        "## Exploratory Data Analysis and Preprocessing"
      ]
    },
    {
      "cell_type": "code",
      "metadata": {
        "Collapsed": "false",
        "id": "hGdMKqiTRg1U",
        "colab_type": "code",
        "colab": {}
      },
      "source": [
        "def show_img(img):\n",
        "    img = img.permute(1, 2, 0)\n",
        "    if img.shape[2]==1:\n",
        "        img = img.view(img.shape[0], img.shape[1])\n",
        "    plt.title(f'Image has size {img.cpu().numpy().shape}')\n",
        "    plt.imshow(img, cmap='gray')\n",
        "    plt.axis('off')\n",
        "    plt.show()"
      ],
      "execution_count": 0,
      "outputs": []
    },
    {
      "cell_type": "code",
      "metadata": {
        "Collapsed": "false",
        "id": "PO_NZ35LRg1b",
        "colab_type": "code",
        "colab": {}
      },
      "source": [
        "transforms_all = transforms.Compose([\n",
        "    transforms.Grayscale(num_output_channels=1),\n",
        "    transforms.Resize(size=50),\n",
        "    transforms.ToTensor(),\n",
        "])\n",
        "\n",
        "dummy_batch = torch.utils.data.DataLoader(\n",
        "    datasets.ImageFolder('Font/all/', transform=transforms.ToTensor()),\n",
        "    batch_size=1, shuffle=True)"
      ],
      "execution_count": 0,
      "outputs": []
    },
    {
      "cell_type": "code",
      "metadata": {
        "Collapsed": "false",
        "id": "jX1JrA2mRg1i",
        "colab_type": "code",
        "colab": {},
        "outputId": "1cb10cc2-c5fd-4c54-d637-ad7373841910"
      },
      "source": [
        "for batch in dummy_batch:\n",
        "    original_image = batch[0][0]\n",
        "    show_img(original_image)\n",
        "    show_img(transforms_all(transforms.ToPILImage()(original_image)))\n",
        "    break"
      ],
      "execution_count": 0,
      "outputs": [
        {
          "output_type": "display_data",
          "data": {
            "image/svg+xml": "<?xml version=\"1.0\" encoding=\"utf-8\" standalone=\"no\"?>\n<!DOCTYPE svg PUBLIC \"-//W3C//DTD SVG 1.1//EN\"\n  \"http://www.w3.org/Graphics/SVG/1.1/DTD/svg11.dtd\">\n<!-- Created with matplotlib (https://matplotlib.org/) -->\n<svg height=\"248.78175pt\" version=\"1.1\" viewBox=\"0 0 231.84 248.78175\" width=\"231.84pt\" xmlns=\"http://www.w3.org/2000/svg\" xmlns:xlink=\"http://www.w3.org/1999/xlink\">\n <defs>\n  <style type=\"text/css\">\n*{stroke-linecap:butt;stroke-linejoin:round;}\n  </style>\n </defs>\n <g id=\"figure_1\">\n  <g id=\"patch_1\">\n   <path d=\"M 0 248.78175 \nL 231.84 248.78175 \nL 231.84 0 \nL 0 0 \nz\n\" style=\"fill:#ffffff;\"/>\n  </g>\n  <g id=\"axes_1\">\n   <g clip-path=\"url(#pb3a8508934)\">\n    <image height=\"218\" id=\"image2ecc9c3863\" transform=\"scale(1 -1)translate(0 -218)\" width=\"218\" x=\"7.2\" xlink:href=\"data:image/png;base64,\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\" y=\"-23.58175\"/>\n   </g>\n   <g id=\"text_1\">\n    <!-- Image has size (128, 128, 3) -->\n    <defs>\n     <path d=\"M 9.8125 72.90625 \nL 19.671875 72.90625 \nL 19.671875 0 \nL 9.8125 0 \nz\n\" id=\"DejaVuSans-73\"/>\n     <path d=\"M 52 44.1875 \nQ 55.375 50.25 60.0625 53.125 \nQ 64.75 56 71.09375 56 \nQ 79.640625 56 84.28125 50.015625 \nQ 88.921875 44.046875 88.921875 33.015625 \nL 88.921875 0 \nL 79.890625 0 \nL 79.890625 32.71875 \nQ 79.890625 40.578125 77.09375 44.375 \nQ 74.3125 48.1875 68.609375 48.1875 \nQ 61.625 48.1875 57.5625 43.546875 \nQ 53.515625 38.921875 53.515625 30.90625 \nL 53.515625 0 \nL 44.484375 0 \nL 44.484375 32.71875 \nQ 44.484375 40.625 41.703125 44.40625 \nQ 38.921875 48.1875 33.109375 48.1875 \nQ 26.21875 48.1875 22.15625 43.53125 \nQ 18.109375 38.875 18.109375 30.90625 \nL 18.109375 0 \nL 9.078125 0 \nL 9.078125 54.6875 \nL 18.109375 54.6875 \nL 18.109375 46.1875 \nQ 21.1875 51.21875 25.484375 53.609375 \nQ 29.78125 56 35.6875 56 \nQ 41.65625 56 45.828125 52.96875 \nQ 50 49.953125 52 44.1875 \nz\n\" id=\"DejaVuSans-109\"/>\n     <path d=\"M 34.28125 27.484375 \nQ 23.390625 27.484375 19.1875 25 \nQ 14.984375 22.515625 14.984375 16.5 \nQ 14.984375 11.71875 18.140625 8.90625 \nQ 21.296875 6.109375 26.703125 6.109375 \nQ 34.1875 6.109375 38.703125 11.40625 \nQ 43.21875 16.703125 43.21875 25.484375 \nL 43.21875 27.484375 \nz\nM 52.203125 31.203125 \nL 52.203125 0 \nL 43.21875 0 \nL 43.21875 8.296875 \nQ 40.140625 3.328125 35.546875 0.953125 \nQ 30.953125 -1.421875 24.3125 -1.421875 \nQ 15.921875 -1.421875 10.953125 3.296875 \nQ 6 8.015625 6 15.921875 \nQ 6 25.140625 12.171875 29.828125 \nQ 18.359375 34.515625 30.609375 34.515625 \nL 43.21875 34.515625 \nL 43.21875 35.40625 \nQ 43.21875 41.609375 39.140625 45 \nQ 35.0625 48.390625 27.6875 48.390625 \nQ 23 48.390625 18.546875 47.265625 \nQ 14.109375 46.140625 10.015625 43.890625 \nL 10.015625 52.203125 \nQ 14.9375 54.109375 19.578125 55.046875 \nQ 24.21875 56 28.609375 56 \nQ 40.484375 56 46.34375 49.84375 \nQ 52.203125 43.703125 52.203125 31.203125 \nz\n\" id=\"DejaVuSans-97\"/>\n     <path d=\"M 45.40625 27.984375 \nQ 45.40625 37.75 41.375 43.109375 \nQ 37.359375 48.484375 30.078125 48.484375 \nQ 22.859375 48.484375 18.828125 43.109375 \nQ 14.796875 37.75 14.796875 27.984375 \nQ 14.796875 18.265625 18.828125 12.890625 \nQ 22.859375 7.515625 30.078125 7.515625 \nQ 37.359375 7.515625 41.375 12.890625 \nQ 45.40625 18.265625 45.40625 27.984375 \nz\nM 54.390625 6.78125 \nQ 54.390625 -7.171875 48.1875 -13.984375 \nQ 42 -20.796875 29.203125 -20.796875 \nQ 24.46875 -20.796875 20.265625 -20.09375 \nQ 16.0625 -19.390625 12.109375 -17.921875 \nL 12.109375 -9.1875 \nQ 16.0625 -11.328125 19.921875 -12.34375 \nQ 23.78125 -13.375 27.78125 -13.375 \nQ 36.625 -13.375 41.015625 -8.765625 \nQ 45.40625 -4.15625 45.40625 5.171875 \nL 45.40625 9.625 \nQ 42.625 4.78125 38.28125 2.390625 \nQ 33.9375 0 27.875 0 \nQ 17.828125 0 11.671875 7.65625 \nQ 5.515625 15.328125 5.515625 27.984375 \nQ 5.515625 40.671875 11.671875 48.328125 \nQ 17.828125 56 27.875 56 \nQ 33.9375 56 38.28125 53.609375 \nQ 42.625 51.21875 45.40625 46.390625 \nL 45.40625 54.6875 \nL 54.390625 54.6875 \nz\n\" id=\"DejaVuSans-103\"/>\n     <path d=\"M 56.203125 29.59375 \nL 56.203125 25.203125 \nL 14.890625 25.203125 \nQ 15.484375 15.921875 20.484375 11.0625 \nQ 25.484375 6.203125 34.421875 6.203125 \nQ 39.59375 6.203125 44.453125 7.46875 \nQ 49.3125 8.734375 54.109375 11.28125 \nL 54.109375 2.78125 \nQ 49.265625 0.734375 44.1875 -0.34375 \nQ 39.109375 -1.421875 33.890625 -1.421875 \nQ 20.796875 -1.421875 13.15625 6.1875 \nQ 5.515625 13.8125 5.515625 26.8125 \nQ 5.515625 40.234375 12.765625 48.109375 \nQ 20.015625 56 32.328125 56 \nQ 43.359375 56 49.78125 48.890625 \nQ 56.203125 41.796875 56.203125 29.59375 \nz\nM 47.21875 32.234375 \nQ 47.125 39.59375 43.09375 43.984375 \nQ 39.0625 48.390625 32.421875 48.390625 \nQ 24.90625 48.390625 20.390625 44.140625 \nQ 15.875 39.890625 15.1875 32.171875 \nz\n\" id=\"DejaVuSans-101\"/>\n     <path id=\"DejaVuSans-32\"/>\n     <path d=\"M 54.890625 33.015625 \nL 54.890625 0 \nL 45.90625 0 \nL 45.90625 32.71875 \nQ 45.90625 40.484375 42.875 44.328125 \nQ 39.84375 48.1875 33.796875 48.1875 \nQ 26.515625 48.1875 22.3125 43.546875 \nQ 18.109375 38.921875 18.109375 30.90625 \nL 18.109375 0 \nL 9.078125 0 \nL 9.078125 75.984375 \nL 18.109375 75.984375 \nL 18.109375 46.1875 \nQ 21.34375 51.125 25.703125 53.5625 \nQ 30.078125 56 35.796875 56 \nQ 45.21875 56 50.046875 50.171875 \nQ 54.890625 44.34375 54.890625 33.015625 \nz\n\" id=\"DejaVuSans-104\"/>\n     <path d=\"M 44.28125 53.078125 \nL 44.28125 44.578125 \nQ 40.484375 46.53125 36.375 47.5 \nQ 32.28125 48.484375 27.875 48.484375 \nQ 21.1875 48.484375 17.84375 46.4375 \nQ 14.5 44.390625 14.5 40.28125 \nQ 14.5 37.15625 16.890625 35.375 \nQ 19.28125 33.59375 26.515625 31.984375 \nL 29.59375 31.296875 \nQ 39.15625 29.25 43.1875 25.515625 \nQ 47.21875 21.78125 47.21875 15.09375 \nQ 47.21875 7.46875 41.1875 3.015625 \nQ 35.15625 -1.421875 24.609375 -1.421875 \nQ 20.21875 -1.421875 15.453125 -0.5625 \nQ 10.6875 0.296875 5.421875 2 \nL 5.421875 11.28125 \nQ 10.40625 8.6875 15.234375 7.390625 \nQ 20.0625 6.109375 24.8125 6.109375 \nQ 31.15625 6.109375 34.5625 8.28125 \nQ 37.984375 10.453125 37.984375 14.40625 \nQ 37.984375 18.0625 35.515625 20.015625 \nQ 33.0625 21.96875 24.703125 23.78125 \nL 21.578125 24.515625 \nQ 13.234375 26.265625 9.515625 29.90625 \nQ 5.8125 33.546875 5.8125 39.890625 \nQ 5.8125 47.609375 11.28125 51.796875 \nQ 16.75 56 26.8125 56 \nQ 31.78125 56 36.171875 55.265625 \nQ 40.578125 54.546875 44.28125 53.078125 \nz\n\" id=\"DejaVuSans-115\"/>\n     <path d=\"M 9.421875 54.6875 \nL 18.40625 54.6875 \nL 18.40625 0 \nL 9.421875 0 \nz\nM 9.421875 75.984375 \nL 18.40625 75.984375 \nL 18.40625 64.59375 \nL 9.421875 64.59375 \nz\n\" id=\"DejaVuSans-105\"/>\n     <path d=\"M 5.515625 54.6875 \nL 48.1875 54.6875 \nL 48.1875 46.484375 \nL 14.40625 7.171875 \nL 48.1875 7.171875 \nL 48.1875 0 \nL 4.296875 0 \nL 4.296875 8.203125 \nL 38.09375 47.515625 \nL 5.515625 47.515625 \nz\n\" id=\"DejaVuSans-122\"/>\n     <path d=\"M 31 75.875 \nQ 24.46875 64.65625 21.28125 53.65625 \nQ 18.109375 42.671875 18.109375 31.390625 \nQ 18.109375 20.125 21.3125 9.0625 \nQ 24.515625 -2 31 -13.1875 \nL 23.1875 -13.1875 \nQ 15.875 -1.703125 12.234375 9.375 \nQ 8.59375 20.453125 8.59375 31.390625 \nQ 8.59375 42.28125 12.203125 53.3125 \nQ 15.828125 64.359375 23.1875 75.875 \nz\n\" id=\"DejaVuSans-40\"/>\n     <path d=\"M 12.40625 8.296875 \nL 28.515625 8.296875 \nL 28.515625 63.921875 \nL 10.984375 60.40625 \nL 10.984375 69.390625 \nL 28.421875 72.90625 \nL 38.28125 72.90625 \nL 38.28125 8.296875 \nL 54.390625 8.296875 \nL 54.390625 0 \nL 12.40625 0 \nz\n\" id=\"DejaVuSans-49\"/>\n     <path d=\"M 19.1875 8.296875 \nL 53.609375 8.296875 \nL 53.609375 0 \nL 7.328125 0 \nL 7.328125 8.296875 \nQ 12.9375 14.109375 22.625 23.890625 \nQ 32.328125 33.6875 34.8125 36.53125 \nQ 39.546875 41.84375 41.421875 45.53125 \nQ 43.3125 49.21875 43.3125 52.78125 \nQ 43.3125 58.59375 39.234375 62.25 \nQ 35.15625 65.921875 28.609375 65.921875 \nQ 23.96875 65.921875 18.8125 64.3125 \nQ 13.671875 62.703125 7.8125 59.421875 \nL 7.8125 69.390625 \nQ 13.765625 71.78125 18.9375 73 \nQ 24.125 74.21875 28.421875 74.21875 \nQ 39.75 74.21875 46.484375 68.546875 \nQ 53.21875 62.890625 53.21875 53.421875 \nQ 53.21875 48.921875 51.53125 44.890625 \nQ 49.859375 40.875 45.40625 35.40625 \nQ 44.1875 33.984375 37.640625 27.21875 \nQ 31.109375 20.453125 19.1875 8.296875 \nz\n\" id=\"DejaVuSans-50\"/>\n     <path d=\"M 31.78125 34.625 \nQ 24.75 34.625 20.71875 30.859375 \nQ 16.703125 27.09375 16.703125 20.515625 \nQ 16.703125 13.921875 20.71875 10.15625 \nQ 24.75 6.390625 31.78125 6.390625 \nQ 38.8125 6.390625 42.859375 10.171875 \nQ 46.921875 13.96875 46.921875 20.515625 \nQ 46.921875 27.09375 42.890625 30.859375 \nQ 38.875 34.625 31.78125 34.625 \nz\nM 21.921875 38.8125 \nQ 15.578125 40.375 12.03125 44.71875 \nQ 8.5 49.078125 8.5 55.328125 \nQ 8.5 64.0625 14.71875 69.140625 \nQ 20.953125 74.21875 31.78125 74.21875 \nQ 42.671875 74.21875 48.875 69.140625 \nQ 55.078125 64.0625 55.078125 55.328125 \nQ 55.078125 49.078125 51.53125 44.71875 \nQ 48 40.375 41.703125 38.8125 \nQ 48.828125 37.15625 52.796875 32.3125 \nQ 56.78125 27.484375 56.78125 20.515625 \nQ 56.78125 9.90625 50.3125 4.234375 \nQ 43.84375 -1.421875 31.78125 -1.421875 \nQ 19.734375 -1.421875 13.25 4.234375 \nQ 6.78125 9.90625 6.78125 20.515625 \nQ 6.78125 27.484375 10.78125 32.3125 \nQ 14.796875 37.15625 21.921875 38.8125 \nz\nM 18.3125 54.390625 \nQ 18.3125 48.734375 21.84375 45.5625 \nQ 25.390625 42.390625 31.78125 42.390625 \nQ 38.140625 42.390625 41.71875 45.5625 \nQ 45.3125 48.734375 45.3125 54.390625 \nQ 45.3125 60.0625 41.71875 63.234375 \nQ 38.140625 66.40625 31.78125 66.40625 \nQ 25.390625 66.40625 21.84375 63.234375 \nQ 18.3125 60.0625 18.3125 54.390625 \nz\n\" id=\"DejaVuSans-56\"/>\n     <path d=\"M 11.71875 12.40625 \nL 22.015625 12.40625 \nL 22.015625 4 \nL 14.015625 -11.625 \nL 7.71875 -11.625 \nL 11.71875 4 \nz\n\" id=\"DejaVuSans-44\"/>\n     <path d=\"M 40.578125 39.3125 \nQ 47.65625 37.796875 51.625 33 \nQ 55.609375 28.21875 55.609375 21.1875 \nQ 55.609375 10.40625 48.1875 4.484375 \nQ 40.765625 -1.421875 27.09375 -1.421875 \nQ 22.515625 -1.421875 17.65625 -0.515625 \nQ 12.796875 0.390625 7.625 2.203125 \nL 7.625 11.71875 \nQ 11.71875 9.328125 16.59375 8.109375 \nQ 21.484375 6.890625 26.8125 6.890625 \nQ 36.078125 6.890625 40.9375 10.546875 \nQ 45.796875 14.203125 45.796875 21.1875 \nQ 45.796875 27.640625 41.28125 31.265625 \nQ 36.765625 34.90625 28.71875 34.90625 \nL 20.21875 34.90625 \nL 20.21875 43.015625 \nL 29.109375 43.015625 \nQ 36.375 43.015625 40.234375 45.921875 \nQ 44.09375 48.828125 44.09375 54.296875 \nQ 44.09375 59.90625 40.109375 62.90625 \nQ 36.140625 65.921875 28.71875 65.921875 \nQ 24.65625 65.921875 20.015625 65.03125 \nQ 15.375 64.15625 9.8125 62.3125 \nL 9.8125 71.09375 \nQ 15.4375 72.65625 20.34375 73.4375 \nQ 25.25 74.21875 29.59375 74.21875 \nQ 40.828125 74.21875 47.359375 69.109375 \nQ 53.90625 64.015625 53.90625 55.328125 \nQ 53.90625 49.265625 50.4375 45.09375 \nQ 46.96875 40.921875 40.578125 39.3125 \nz\n\" id=\"DejaVuSans-51\"/>\n     <path d=\"M 8.015625 75.875 \nL 15.828125 75.875 \nQ 23.140625 64.359375 26.78125 53.3125 \nQ 30.421875 42.28125 30.421875 31.390625 \nQ 30.421875 20.453125 26.78125 9.375 \nQ 23.140625 -1.703125 15.828125 -13.1875 \nL 8.015625 -13.1875 \nQ 14.5 -2 17.703125 9.0625 \nQ 20.90625 20.125 20.90625 31.390625 \nQ 20.90625 42.671875 17.703125 53.65625 \nQ 14.5 64.65625 8.015625 75.875 \nz\n\" id=\"DejaVuSans-41\"/>\n    </defs>\n    <g transform=\"translate(12.98025 18.14175)scale(0.144 -0.144)\">\n     <use xlink:href=\"#DejaVuSans-73\"/>\n     <use x=\"29.492188\" xlink:href=\"#DejaVuSans-109\"/>\n     <use x=\"126.904297\" xlink:href=\"#DejaVuSans-97\"/>\n     <use x=\"188.183594\" xlink:href=\"#DejaVuSans-103\"/>\n     <use x=\"251.660156\" xlink:href=\"#DejaVuSans-101\"/>\n     <use x=\"313.183594\" xlink:href=\"#DejaVuSans-32\"/>\n     <use x=\"344.970703\" xlink:href=\"#DejaVuSans-104\"/>\n     <use x=\"408.349609\" xlink:href=\"#DejaVuSans-97\"/>\n     <use x=\"469.628906\" xlink:href=\"#DejaVuSans-115\"/>\n     <use x=\"521.728516\" xlink:href=\"#DejaVuSans-32\"/>\n     <use x=\"553.515625\" xlink:href=\"#DejaVuSans-115\"/>\n     <use x=\"605.615234\" xlink:href=\"#DejaVuSans-105\"/>\n     <use x=\"633.398438\" xlink:href=\"#DejaVuSans-122\"/>\n     <use x=\"685.888672\" xlink:href=\"#DejaVuSans-101\"/>\n     <use x=\"747.412109\" xlink:href=\"#DejaVuSans-32\"/>\n     <use x=\"779.199219\" xlink:href=\"#DejaVuSans-40\"/>\n     <use x=\"818.212891\" xlink:href=\"#DejaVuSans-49\"/>\n     <use x=\"881.835938\" xlink:href=\"#DejaVuSans-50\"/>\n     <use x=\"945.458984\" xlink:href=\"#DejaVuSans-56\"/>\n     <use x=\"1009.082031\" xlink:href=\"#DejaVuSans-44\"/>\n     <use x=\"1040.869141\" xlink:href=\"#DejaVuSans-32\"/>\n     <use x=\"1072.65625\" xlink:href=\"#DejaVuSans-49\"/>\n     <use x=\"1136.279297\" xlink:href=\"#DejaVuSans-50\"/>\n     <use x=\"1199.902344\" xlink:href=\"#DejaVuSans-56\"/>\n     <use x=\"1263.525391\" xlink:href=\"#DejaVuSans-44\"/>\n     <use x=\"1295.3125\" xlink:href=\"#DejaVuSans-32\"/>\n     <use x=\"1327.099609\" xlink:href=\"#DejaVuSans-51\"/>\n     <use x=\"1390.722656\" xlink:href=\"#DejaVuSans-41\"/>\n    </g>\n   </g>\n  </g>\n </g>\n <defs>\n  <clipPath id=\"pb3a8508934\">\n   <rect height=\"217.44\" width=\"217.44\" x=\"7.2\" y=\"24.14175\"/>\n  </clipPath>\n </defs>\n</svg>\n",
            "text/plain": [
              "<Figure size 432x288 with 1 Axes>"
            ]
          },
          "metadata": {
            "tags": []
          }
        },
        {
          "output_type": "display_data",
          "data": {
            "image/svg+xml": "<?xml version=\"1.0\" encoding=\"utf-8\" standalone=\"no\"?>\n<!DOCTYPE svg PUBLIC \"-//W3C//DTD SVG 1.1//EN\"\n  \"http://www.w3.org/Graphics/SVG/1.1/DTD/svg11.dtd\">\n<!-- Created with matplotlib (https://matplotlib.org/) -->\n<svg height=\"248.78175pt\" version=\"1.1\" viewBox=\"0 0 231.84 248.78175\" width=\"231.84pt\" xmlns=\"http://www.w3.org/2000/svg\" xmlns:xlink=\"http://www.w3.org/1999/xlink\">\n <defs>\n  <style type=\"text/css\">\n*{stroke-linecap:butt;stroke-linejoin:round;}\n  </style>\n </defs>\n <g id=\"figure_1\">\n  <g id=\"patch_1\">\n   <path d=\"M 0 248.78175 \nL 231.84 248.78175 \nL 231.84 0 \nL 0 0 \nz\n\" style=\"fill:#ffffff;\"/>\n  </g>\n  <g id=\"axes_1\">\n   <g clip-path=\"url(#p81e65201ee)\">\n    <image height=\"218\" id=\"imagefb59fb2dd0\" transform=\"scale(1 -1)translate(0 -218)\" width=\"218\" x=\"7.2\" xlink:href=\"data:image/png;base64,\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\" y=\"-23.58175\"/>\n   </g>\n   <g id=\"text_1\">\n    <!-- Image has size (50, 50) -->\n    <defs>\n     <path d=\"M 9.8125 72.90625 \nL 19.671875 72.90625 \nL 19.671875 0 \nL 9.8125 0 \nz\n\" id=\"DejaVuSans-73\"/>\n     <path d=\"M 52 44.1875 \nQ 55.375 50.25 60.0625 53.125 \nQ 64.75 56 71.09375 56 \nQ 79.640625 56 84.28125 50.015625 \nQ 88.921875 44.046875 88.921875 33.015625 \nL 88.921875 0 \nL 79.890625 0 \nL 79.890625 32.71875 \nQ 79.890625 40.578125 77.09375 44.375 \nQ 74.3125 48.1875 68.609375 48.1875 \nQ 61.625 48.1875 57.5625 43.546875 \nQ 53.515625 38.921875 53.515625 30.90625 \nL 53.515625 0 \nL 44.484375 0 \nL 44.484375 32.71875 \nQ 44.484375 40.625 41.703125 44.40625 \nQ 38.921875 48.1875 33.109375 48.1875 \nQ 26.21875 48.1875 22.15625 43.53125 \nQ 18.109375 38.875 18.109375 30.90625 \nL 18.109375 0 \nL 9.078125 0 \nL 9.078125 54.6875 \nL 18.109375 54.6875 \nL 18.109375 46.1875 \nQ 21.1875 51.21875 25.484375 53.609375 \nQ 29.78125 56 35.6875 56 \nQ 41.65625 56 45.828125 52.96875 \nQ 50 49.953125 52 44.1875 \nz\n\" id=\"DejaVuSans-109\"/>\n     <path d=\"M 34.28125 27.484375 \nQ 23.390625 27.484375 19.1875 25 \nQ 14.984375 22.515625 14.984375 16.5 \nQ 14.984375 11.71875 18.140625 8.90625 \nQ 21.296875 6.109375 26.703125 6.109375 \nQ 34.1875 6.109375 38.703125 11.40625 \nQ 43.21875 16.703125 43.21875 25.484375 \nL 43.21875 27.484375 \nz\nM 52.203125 31.203125 \nL 52.203125 0 \nL 43.21875 0 \nL 43.21875 8.296875 \nQ 40.140625 3.328125 35.546875 0.953125 \nQ 30.953125 -1.421875 24.3125 -1.421875 \nQ 15.921875 -1.421875 10.953125 3.296875 \nQ 6 8.015625 6 15.921875 \nQ 6 25.140625 12.171875 29.828125 \nQ 18.359375 34.515625 30.609375 34.515625 \nL 43.21875 34.515625 \nL 43.21875 35.40625 \nQ 43.21875 41.609375 39.140625 45 \nQ 35.0625 48.390625 27.6875 48.390625 \nQ 23 48.390625 18.546875 47.265625 \nQ 14.109375 46.140625 10.015625 43.890625 \nL 10.015625 52.203125 \nQ 14.9375 54.109375 19.578125 55.046875 \nQ 24.21875 56 28.609375 56 \nQ 40.484375 56 46.34375 49.84375 \nQ 52.203125 43.703125 52.203125 31.203125 \nz\n\" id=\"DejaVuSans-97\"/>\n     <path d=\"M 45.40625 27.984375 \nQ 45.40625 37.75 41.375 43.109375 \nQ 37.359375 48.484375 30.078125 48.484375 \nQ 22.859375 48.484375 18.828125 43.109375 \nQ 14.796875 37.75 14.796875 27.984375 \nQ 14.796875 18.265625 18.828125 12.890625 \nQ 22.859375 7.515625 30.078125 7.515625 \nQ 37.359375 7.515625 41.375 12.890625 \nQ 45.40625 18.265625 45.40625 27.984375 \nz\nM 54.390625 6.78125 \nQ 54.390625 -7.171875 48.1875 -13.984375 \nQ 42 -20.796875 29.203125 -20.796875 \nQ 24.46875 -20.796875 20.265625 -20.09375 \nQ 16.0625 -19.390625 12.109375 -17.921875 \nL 12.109375 -9.1875 \nQ 16.0625 -11.328125 19.921875 -12.34375 \nQ 23.78125 -13.375 27.78125 -13.375 \nQ 36.625 -13.375 41.015625 -8.765625 \nQ 45.40625 -4.15625 45.40625 5.171875 \nL 45.40625 9.625 \nQ 42.625 4.78125 38.28125 2.390625 \nQ 33.9375 0 27.875 0 \nQ 17.828125 0 11.671875 7.65625 \nQ 5.515625 15.328125 5.515625 27.984375 \nQ 5.515625 40.671875 11.671875 48.328125 \nQ 17.828125 56 27.875 56 \nQ 33.9375 56 38.28125 53.609375 \nQ 42.625 51.21875 45.40625 46.390625 \nL 45.40625 54.6875 \nL 54.390625 54.6875 \nz\n\" id=\"DejaVuSans-103\"/>\n     <path d=\"M 56.203125 29.59375 \nL 56.203125 25.203125 \nL 14.890625 25.203125 \nQ 15.484375 15.921875 20.484375 11.0625 \nQ 25.484375 6.203125 34.421875 6.203125 \nQ 39.59375 6.203125 44.453125 7.46875 \nQ 49.3125 8.734375 54.109375 11.28125 \nL 54.109375 2.78125 \nQ 49.265625 0.734375 44.1875 -0.34375 \nQ 39.109375 -1.421875 33.890625 -1.421875 \nQ 20.796875 -1.421875 13.15625 6.1875 \nQ 5.515625 13.8125 5.515625 26.8125 \nQ 5.515625 40.234375 12.765625 48.109375 \nQ 20.015625 56 32.328125 56 \nQ 43.359375 56 49.78125 48.890625 \nQ 56.203125 41.796875 56.203125 29.59375 \nz\nM 47.21875 32.234375 \nQ 47.125 39.59375 43.09375 43.984375 \nQ 39.0625 48.390625 32.421875 48.390625 \nQ 24.90625 48.390625 20.390625 44.140625 \nQ 15.875 39.890625 15.1875 32.171875 \nz\n\" id=\"DejaVuSans-101\"/>\n     <path id=\"DejaVuSans-32\"/>\n     <path d=\"M 54.890625 33.015625 \nL 54.890625 0 \nL 45.90625 0 \nL 45.90625 32.71875 \nQ 45.90625 40.484375 42.875 44.328125 \nQ 39.84375 48.1875 33.796875 48.1875 \nQ 26.515625 48.1875 22.3125 43.546875 \nQ 18.109375 38.921875 18.109375 30.90625 \nL 18.109375 0 \nL 9.078125 0 \nL 9.078125 75.984375 \nL 18.109375 75.984375 \nL 18.109375 46.1875 \nQ 21.34375 51.125 25.703125 53.5625 \nQ 30.078125 56 35.796875 56 \nQ 45.21875 56 50.046875 50.171875 \nQ 54.890625 44.34375 54.890625 33.015625 \nz\n\" id=\"DejaVuSans-104\"/>\n     <path d=\"M 44.28125 53.078125 \nL 44.28125 44.578125 \nQ 40.484375 46.53125 36.375 47.5 \nQ 32.28125 48.484375 27.875 48.484375 \nQ 21.1875 48.484375 17.84375 46.4375 \nQ 14.5 44.390625 14.5 40.28125 \nQ 14.5 37.15625 16.890625 35.375 \nQ 19.28125 33.59375 26.515625 31.984375 \nL 29.59375 31.296875 \nQ 39.15625 29.25 43.1875 25.515625 \nQ 47.21875 21.78125 47.21875 15.09375 \nQ 47.21875 7.46875 41.1875 3.015625 \nQ 35.15625 -1.421875 24.609375 -1.421875 \nQ 20.21875 -1.421875 15.453125 -0.5625 \nQ 10.6875 0.296875 5.421875 2 \nL 5.421875 11.28125 \nQ 10.40625 8.6875 15.234375 7.390625 \nQ 20.0625 6.109375 24.8125 6.109375 \nQ 31.15625 6.109375 34.5625 8.28125 \nQ 37.984375 10.453125 37.984375 14.40625 \nQ 37.984375 18.0625 35.515625 20.015625 \nQ 33.0625 21.96875 24.703125 23.78125 \nL 21.578125 24.515625 \nQ 13.234375 26.265625 9.515625 29.90625 \nQ 5.8125 33.546875 5.8125 39.890625 \nQ 5.8125 47.609375 11.28125 51.796875 \nQ 16.75 56 26.8125 56 \nQ 31.78125 56 36.171875 55.265625 \nQ 40.578125 54.546875 44.28125 53.078125 \nz\n\" id=\"DejaVuSans-115\"/>\n     <path d=\"M 9.421875 54.6875 \nL 18.40625 54.6875 \nL 18.40625 0 \nL 9.421875 0 \nz\nM 9.421875 75.984375 \nL 18.40625 75.984375 \nL 18.40625 64.59375 \nL 9.421875 64.59375 \nz\n\" id=\"DejaVuSans-105\"/>\n     <path d=\"M 5.515625 54.6875 \nL 48.1875 54.6875 \nL 48.1875 46.484375 \nL 14.40625 7.171875 \nL 48.1875 7.171875 \nL 48.1875 0 \nL 4.296875 0 \nL 4.296875 8.203125 \nL 38.09375 47.515625 \nL 5.515625 47.515625 \nz\n\" id=\"DejaVuSans-122\"/>\n     <path d=\"M 31 75.875 \nQ 24.46875 64.65625 21.28125 53.65625 \nQ 18.109375 42.671875 18.109375 31.390625 \nQ 18.109375 20.125 21.3125 9.0625 \nQ 24.515625 -2 31 -13.1875 \nL 23.1875 -13.1875 \nQ 15.875 -1.703125 12.234375 9.375 \nQ 8.59375 20.453125 8.59375 31.390625 \nQ 8.59375 42.28125 12.203125 53.3125 \nQ 15.828125 64.359375 23.1875 75.875 \nz\n\" id=\"DejaVuSans-40\"/>\n     <path d=\"M 10.796875 72.90625 \nL 49.515625 72.90625 \nL 49.515625 64.59375 \nL 19.828125 64.59375 \nL 19.828125 46.734375 \nQ 21.96875 47.46875 24.109375 47.828125 \nQ 26.265625 48.1875 28.421875 48.1875 \nQ 40.625 48.1875 47.75 41.5 \nQ 54.890625 34.8125 54.890625 23.390625 \nQ 54.890625 11.625 47.5625 5.09375 \nQ 40.234375 -1.421875 26.90625 -1.421875 \nQ 22.3125 -1.421875 17.546875 -0.640625 \nQ 12.796875 0.140625 7.71875 1.703125 \nL 7.71875 11.625 \nQ 12.109375 9.234375 16.796875 8.0625 \nQ 21.484375 6.890625 26.703125 6.890625 \nQ 35.15625 6.890625 40.078125 11.328125 \nQ 45.015625 15.765625 45.015625 23.390625 \nQ 45.015625 31 40.078125 35.4375 \nQ 35.15625 39.890625 26.703125 39.890625 \nQ 22.75 39.890625 18.8125 39.015625 \nQ 14.890625 38.140625 10.796875 36.28125 \nz\n\" id=\"DejaVuSans-53\"/>\n     <path d=\"M 31.78125 66.40625 \nQ 24.171875 66.40625 20.328125 58.90625 \nQ 16.5 51.421875 16.5 36.375 \nQ 16.5 21.390625 20.328125 13.890625 \nQ 24.171875 6.390625 31.78125 6.390625 \nQ 39.453125 6.390625 43.28125 13.890625 \nQ 47.125 21.390625 47.125 36.375 \nQ 47.125 51.421875 43.28125 58.90625 \nQ 39.453125 66.40625 31.78125 66.40625 \nz\nM 31.78125 74.21875 \nQ 44.046875 74.21875 50.515625 64.515625 \nQ 56.984375 54.828125 56.984375 36.375 \nQ 56.984375 17.96875 50.515625 8.265625 \nQ 44.046875 -1.421875 31.78125 -1.421875 \nQ 19.53125 -1.421875 13.0625 8.265625 \nQ 6.59375 17.96875 6.59375 36.375 \nQ 6.59375 54.828125 13.0625 64.515625 \nQ 19.53125 74.21875 31.78125 74.21875 \nz\n\" id=\"DejaVuSans-48\"/>\n     <path d=\"M 11.71875 12.40625 \nL 22.015625 12.40625 \nL 22.015625 4 \nL 14.015625 -11.625 \nL 7.71875 -11.625 \nL 11.71875 4 \nz\n\" id=\"DejaVuSans-44\"/>\n     <path d=\"M 8.015625 75.875 \nL 15.828125 75.875 \nQ 23.140625 64.359375 26.78125 53.3125 \nQ 30.421875 42.28125 30.421875 31.390625 \nQ 30.421875 20.453125 26.78125 9.375 \nQ 23.140625 -1.703125 15.828125 -13.1875 \nL 8.015625 -13.1875 \nQ 14.5 -2 17.703125 9.0625 \nQ 20.90625 20.125 20.90625 31.390625 \nQ 20.90625 42.671875 17.703125 53.65625 \nQ 14.5 64.65625 8.015625 75.875 \nz\n\" id=\"DejaVuSans-41\"/>\n    </defs>\n    <g transform=\"translate(31.29975 18.14175)scale(0.144 -0.144)\">\n     <use xlink:href=\"#DejaVuSans-73\"/>\n     <use x=\"29.492188\" xlink:href=\"#DejaVuSans-109\"/>\n     <use x=\"126.904297\" xlink:href=\"#DejaVuSans-97\"/>\n     <use x=\"188.183594\" xlink:href=\"#DejaVuSans-103\"/>\n     <use x=\"251.660156\" xlink:href=\"#DejaVuSans-101\"/>\n     <use x=\"313.183594\" xlink:href=\"#DejaVuSans-32\"/>\n     <use x=\"344.970703\" xlink:href=\"#DejaVuSans-104\"/>\n     <use x=\"408.349609\" xlink:href=\"#DejaVuSans-97\"/>\n     <use x=\"469.628906\" xlink:href=\"#DejaVuSans-115\"/>\n     <use x=\"521.728516\" xlink:href=\"#DejaVuSans-32\"/>\n     <use x=\"553.515625\" xlink:href=\"#DejaVuSans-115\"/>\n     <use x=\"605.615234\" xlink:href=\"#DejaVuSans-105\"/>\n     <use x=\"633.398438\" xlink:href=\"#DejaVuSans-122\"/>\n     <use x=\"685.888672\" xlink:href=\"#DejaVuSans-101\"/>\n     <use x=\"747.412109\" xlink:href=\"#DejaVuSans-32\"/>\n     <use x=\"779.199219\" xlink:href=\"#DejaVuSans-40\"/>\n     <use x=\"818.212891\" xlink:href=\"#DejaVuSans-53\"/>\n     <use x=\"881.835938\" xlink:href=\"#DejaVuSans-48\"/>\n     <use x=\"945.458984\" xlink:href=\"#DejaVuSans-44\"/>\n     <use x=\"977.246094\" xlink:href=\"#DejaVuSans-32\"/>\n     <use x=\"1009.033203\" xlink:href=\"#DejaVuSans-53\"/>\n     <use x=\"1072.65625\" xlink:href=\"#DejaVuSans-48\"/>\n     <use x=\"1136.279297\" xlink:href=\"#DejaVuSans-41\"/>\n    </g>\n   </g>\n  </g>\n </g>\n <defs>\n  <clipPath id=\"p81e65201ee\">\n   <rect height=\"217.44\" width=\"217.44\" x=\"7.2\" y=\"24.14175\"/>\n  </clipPath>\n </defs>\n</svg>\n",
            "text/plain": [
              "<Figure size 432x288 with 1 Axes>"
            ]
          },
          "metadata": {
            "tags": []
          }
        }
      ]
    },
    {
      "cell_type": "markdown",
      "metadata": {
        "Collapsed": "false",
        "id": "l47EVYzxRg1s",
        "colab_type": "text"
      },
      "source": [
        "## Training/Validation Split"
      ]
    },
    {
      "cell_type": "code",
      "metadata": {
        "Collapsed": "false",
        "id": "Cr1JdD4IRg1t",
        "colab_type": "code",
        "colab": {},
        "outputId": "21c6be99-10a3-41cd-c6fe-799bf2c10180"
      },
      "source": [
        "folders = os.listdir('Font/all')\n",
        "\n",
        "# ignore hidden files\n",
        "folders = [folder for folder in folders if folder[0]!='.']\n",
        "\n",
        "os.mkdir('Font/train')\n",
        "os.mkdir('Font/val')\n",
        "\n",
        "for folder in tqdm(folders):\n",
        "    os.mkdir(f'Font/val/{folder}')\n",
        "    os.mkdir(f'Font/train/{folder}')\n",
        "    \n",
        "    images = os.listdir(f'Font/all/{folder}')\n",
        "    \n",
        "    # ignore hidden files\n",
        "    images = [image for image in images if image[0]!='.']\n",
        "    \n",
        "    random.shuffle(images)\n",
        "    for image in images[:20]:\n",
        "        shutil.copy(f'Font/all/{folder}/{image}', f'Font/val/{folder}/{image}')\n",
        "        \n",
        "    for image in images[20:]:\n",
        "        shutil.copy(f'Font/all/{folder}/{image}', f'Font/train/{folder}/{image}')"
      ],
      "execution_count": 0,
      "outputs": [
        {
          "output_type": "error",
          "ename": "FileExistsError",
          "evalue": "[Errno 17] File exists: 'Font/train'",
          "traceback": [
            "\u001b[0;31m---------------------------------------------------------------------------\u001b[0m",
            "\u001b[0;31mFileExistsError\u001b[0m                           Traceback (most recent call last)",
            "\u001b[0;32m<ipython-input-313-8e62dfd63e4a>\u001b[0m in \u001b[0;36m<module>\u001b[0;34m\u001b[0m\n\u001b[1;32m      4\u001b[0m \u001b[0mfolders\u001b[0m \u001b[0;34m=\u001b[0m \u001b[0;34m[\u001b[0m\u001b[0mfolder\u001b[0m \u001b[0;32mfor\u001b[0m \u001b[0mfolder\u001b[0m \u001b[0;32min\u001b[0m \u001b[0mfolders\u001b[0m \u001b[0;32mif\u001b[0m \u001b[0mfolder\u001b[0m\u001b[0;34m[\u001b[0m\u001b[0;36m0\u001b[0m\u001b[0;34m]\u001b[0m\u001b[0;34m!=\u001b[0m\u001b[0;34m'.'\u001b[0m\u001b[0;34m]\u001b[0m\u001b[0;34m\u001b[0m\u001b[0;34m\u001b[0m\u001b[0m\n\u001b[1;32m      5\u001b[0m \u001b[0;34m\u001b[0m\u001b[0m\n\u001b[0;32m----> 6\u001b[0;31m \u001b[0mos\u001b[0m\u001b[0;34m.\u001b[0m\u001b[0mmkdir\u001b[0m\u001b[0;34m(\u001b[0m\u001b[0;34m'Font/train'\u001b[0m\u001b[0;34m)\u001b[0m\u001b[0;34m\u001b[0m\u001b[0;34m\u001b[0m\u001b[0m\n\u001b[0m\u001b[1;32m      7\u001b[0m \u001b[0mos\u001b[0m\u001b[0;34m.\u001b[0m\u001b[0mmkdir\u001b[0m\u001b[0;34m(\u001b[0m\u001b[0;34m'Font/val'\u001b[0m\u001b[0;34m)\u001b[0m\u001b[0;34m\u001b[0m\u001b[0;34m\u001b[0m\u001b[0m\n\u001b[1;32m      8\u001b[0m \u001b[0;34m\u001b[0m\u001b[0m\n",
            "\u001b[0;31mFileExistsError\u001b[0m: [Errno 17] File exists: 'Font/train'"
          ]
        }
      ]
    },
    {
      "cell_type": "markdown",
      "metadata": {
        "Collapsed": "false",
        "id": "i8Pr_S12Rg10",
        "colab_type": "text"
      },
      "source": [
        "## Creating Data Loaders"
      ]
    },
    {
      "cell_type": "code",
      "metadata": {
        "Collapsed": "false",
        "id": "6PP_74FVRg11",
        "colab_type": "code",
        "colab": {}
      },
      "source": [
        "transforms_set = transforms.Compose([\n",
        "    transforms.Grayscale(num_output_channels=1),\n",
        "    transforms.Resize(size=50),\n",
        "    transforms.ToTensor(),\n",
        "])\n",
        "\n",
        "train_loader = torch.utils.data.DataLoader(\n",
        "    datasets.ImageFolder('Font/train', transform=transforms_set),\n",
        "    batch_size=batch_size, shuffle=True)\n",
        "val_loader = torch.utils.data.DataLoader(\n",
        "    datasets.ImageFolder('Font/val', transform=transforms_set),\n",
        "    batch_size=batch_size, shuffle=True)"
      ],
      "execution_count": 0,
      "outputs": []
    },
    {
      "cell_type": "markdown",
      "metadata": {
        "Collapsed": "false",
        "id": "QshJrTCMRg14",
        "colab_type": "text"
      },
      "source": [
        "##  VAE Architecture and Model Creation"
      ]
    },
    {
      "cell_type": "code",
      "metadata": {
        "Collapsed": "false",
        "id": "CKTDxCtLRg15",
        "colab_type": "code",
        "colab": {}
      },
      "source": [
        "class VAE(nn.Module):\n",
        "    def __init__(self):\n",
        "        super(VAE, self).__init__()\n",
        "    \n",
        "        z = 32\n",
        "        \n",
        "        self.fc1 = nn.Linear(50*50, 1000)\n",
        "        self.fc21 = nn.Linear(1000, z)\n",
        "        self.fc22 = nn.Linear(1000, z)\n",
        "        self.fc3 = nn.Linear(z, 1000)\n",
        "        self.fc4 = nn.Linear(1000, 50*50)\n",
        "\n",
        "    def encode(self, x):\n",
        "        h1 = F.relu(self.fc1(x))\n",
        "        return self.fc21(h1), self.fc22(h1)\n",
        "\n",
        "    def reparameterize(self, mu, logvar):\n",
        "        std = torch.exp(0.5*logvar)\n",
        "        eps = torch.randn_like(std)\n",
        "        return mu + eps*std\n",
        "\n",
        "    def decode(self, z):\n",
        "        h3 = F.relu(self.fc3(z))\n",
        "        return torch.sigmoid(self.fc4(h3))\n",
        "\n",
        "    def forward(self, x):\n",
        "        mu, logvar = self.encode(x.view(-1, 50*50))\n",
        "        z = self.reparameterize(mu, logvar)\n",
        "        return self.decode(z), mu, logvar"
      ],
      "execution_count": 0,
      "outputs": []
    },
    {
      "cell_type": "code",
      "metadata": {
        "Collapsed": "false",
        "id": "nLbYp0MFRg1-",
        "colab_type": "code",
        "colab": {}
      },
      "source": [
        "def loss_function(recon_x, x, mu, logvar):\n",
        "    \n",
        "    BCE = F.binary_cross_entropy(recon_x, x.view(-1, 50*50), reduction='sum')\n",
        "\n",
        "    KLD = -0.5 * torch.sum(1 + logvar - mu.pow(2) - logvar.exp())\n",
        "\n",
        "    return BCE + KLD"
      ],
      "execution_count": 0,
      "outputs": []
    },
    {
      "cell_type": "code",
      "metadata": {
        "Collapsed": "false",
        "id": "6FrDnO2BRg2C",
        "colab_type": "code",
        "colab": {}
      },
      "source": [
        "model = VAE().to(device)\n",
        "\n",
        "optimizer = optim.Adam(model.parameters(), lr=1e-3)"
      ],
      "execution_count": 0,
      "outputs": []
    },
    {
      "cell_type": "markdown",
      "metadata": {
        "Collapsed": "false",
        "id": "5s-e7O-KRg2H",
        "colab_type": "text"
      },
      "source": [
        "##  Training Loop"
      ]
    },
    {
      "cell_type": "code",
      "metadata": {
        "Collapsed": "false",
        "id": "trWRs6opRg2H",
        "colab_type": "code",
        "colab": {}
      },
      "source": [
        "def evaluate(evaluate_data=val_loader):\n",
        "    model.eval()\n",
        "    val_loss = 0\n",
        "    with torch.no_grad():\n",
        "        for i, (data, _) in enumerate(evaluate_data):\n",
        "            \n",
        "            data = data.to(device)\n",
        "            \n",
        "            recon_batch, mu, logvar = model(data)\n",
        "            \n",
        "            val_loss += loss_function(recon_batch, data, mu, logvar).item()\n",
        "            \n",
        "            if i == 0:\n",
        "                n = min(data.size(0), 16)\n",
        "                comparison = torch.cat([data[:n],\n",
        "                                      recon_batch.view(batch_size, 1, 50, 50)[:n]])\n",
        "                save_image(comparison.cpu(),\n",
        "                         'Results/reconstruction_' + str(epoch) + '.png', nrow=n)\n",
        "\n",
        "    val_loss /= len(evaluate_data.dataset)\n",
        "    return val_loss\n",
        "\n",
        "\n",
        "def sample_latent_space(epoch):\n",
        "    with torch.no_grad():\n",
        "        sample = torch.randn(64, 32).to(device)\n",
        "        sample = model.decode(sample).cpu()\n",
        "        save_image(sample.view(64, 1, 50, 50),\n",
        "                   'Results/sample_' + str(epoch) + '.png')"
      ],
      "execution_count": 0,
      "outputs": []
    },
    {
      "cell_type": "code",
      "metadata": {
        "Collapsed": "false",
        "id": "vs-uK1zdRg2L",
        "colab_type": "code",
        "colab": {}
      },
      "source": [
        "def train(epoch):\n",
        "\n",
        "    model.train()\n",
        "    train_loss = 0\n",
        "    \n",
        "    progress_bar = tqdm(train_loader, desc='Epoch {:03d}'.format(epoch), leave=False, disable=False)\n",
        "    for data, _ in progress_bar:\n",
        "        \n",
        "        data = data.to(device)\n",
        "        \n",
        "        optimizer.zero_grad()\n",
        "        \n",
        "        recon_batch, mu, logvar = model(data)\n",
        "        \n",
        "        loss = loss_function(recon_batch, data, mu, logvar)\n",
        "        loss.backward()\n",
        "        train_loss += loss.item()\n",
        "        \n",
        "        optimizer.step()\n",
        "\n",
        "        progress_bar.set_postfix({'training_loss': '{:.3f}'.format(loss.item() / len(data))})\n",
        "\n",
        "    average_train_loss = train_loss / len(train_loader.dataset)\n",
        "    tqdm.write('Training set loss (average, epoch {:03d}): {:.3f}'.format(epoch, average_train_loss))\n",
        "    val_loss = evaluate(val_loader)\n",
        "    tqdm.write('\\t\\t\\t\\t====> Validation set loss: {:.3f}'.format(val_loss))\n",
        "\n",
        "    train_losses.append(average_train_loss)\n",
        "    val_losses.append(val_loss)\n",
        "    \n",
        "    if epoch%50==0:\n",
        "        torch.save(model.state_dict(), f'Models/epoch_{epoch}.model')"
      ],
      "execution_count": 0,
      "outputs": []
    },
    {
      "cell_type": "code",
      "metadata": {
        "Collapsed": "false",
        "id": "_NhSvjAnRg2Q",
        "colab_type": "code",
        "colab": {}
      },
      "source": [
        "epochs=2"
      ],
      "execution_count": 0,
      "outputs": []
    },
    {
      "cell_type": "code",
      "metadata": {
        "Collapsed": "false",
        "id": "DwqzZbfNRg2Y",
        "colab_type": "code",
        "colab": {
          "referenced_widgets": [
            ""
          ]
        },
        "outputId": "3a8d0092-d7dd-4982-af0b-8c7a92742fc7"
      },
      "source": [
        "train_losses = []\n",
        "val_losses = []\n",
        "\n",
        "for epoch in range(1, epochs+1):\n",
        "    train(epoch)\n",
        "    sample_latent_space(epoch)\n",
        "    \n",
        "np.savetxt('Models/training_losses.txt', np.array(train_losses), delimiter='\\n')\n",
        "np.savetxt('Models/validation_losses.txt', np.array(val_losses), delimiter='\\n')"
      ],
      "execution_count": 0,
      "outputs": [
        {
          "output_type": "display_data",
          "data": {
            "application/vnd.jupyter.widget-view+json": {
              "model_id": "",
              "version_major": 2,
              "version_minor": 0
            },
            "text/plain": [
              "HBox(children=(FloatProgress(value=0.0, description='Epoch 001', max=965.0, style=ProgressStyle(description_wi…"
            ]
          },
          "metadata": {
            "tags": []
          }
        },
        {
          "output_type": "stream",
          "text": [
            "Training set loss (average, epoch 001): 266.831\n",
            "\t\t\t\t====> Validation set loss: 266.324\n"
          ],
          "name": "stdout"
        },
        {
          "output_type": "display_data",
          "data": {
            "application/vnd.jupyter.widget-view+json": {
              "model_id": "",
              "version_major": 2,
              "version_minor": 0
            },
            "text/plain": [
              "HBox(children=(FloatProgress(value=0.0, description='Epoch 002', max=965.0, style=ProgressStyle(description_wi…"
            ]
          },
          "metadata": {
            "tags": []
          }
        },
        {
          "output_type": "stream",
          "text": [
            "Training set loss (average, epoch 002): 265.057\n",
            "\t\t\t\t====> Validation set loss: 263.595\n"
          ],
          "name": "stdout"
        }
      ]
    },
    {
      "cell_type": "code",
      "metadata": {
        "Collapsed": "false",
        "id": "Z4n9m9z0Rg2d",
        "colab_type": "code",
        "colab": {},
        "outputId": "caf4b2fb-de00-411d-84a2-17e5e1e818d2"
      },
      "source": [
        "model.load_state_dict(torch.load('Presaved_Models/epoch_950.model', map_location=torch.device('cpu')))"
      ],
      "execution_count": 0,
      "outputs": [
        {
          "output_type": "execute_result",
          "data": {
            "text/plain": [
              "<All keys matched successfully>"
            ]
          },
          "metadata": {
            "tags": []
          },
          "execution_count": 349
        }
      ]
    },
    {
      "cell_type": "code",
      "metadata": {
        "Collapsed": "false",
        "id": "-DcHJug7Rg2j",
        "colab_type": "code",
        "colab": {}
      },
      "source": [
        "for i in range(100):\n",
        "    sample_latent_space(f'-{i}')"
      ],
      "execution_count": 0,
      "outputs": []
    },
    {
      "cell_type": "code",
      "metadata": {
        "Collapsed": "false",
        "id": "bP8pO-pORg2m",
        "colab_type": "code",
        "colab": {}
      },
      "source": [
        ""
      ],
      "execution_count": 0,
      "outputs": []
    },
    {
      "cell_type": "markdown",
      "metadata": {
        "Collapsed": "false",
        "id": "6mfvmfyTRg2t",
        "colab_type": "text"
      },
      "source": [
        "##  Results and Other Uses"
      ]
    },
    {
      "cell_type": "code",
      "metadata": {
        "Collapsed": "false",
        "id": "0sJ5jce0Rg2v",
        "colab_type": "code",
        "colab": {}
      },
      "source": [
        "train_losses = np.loadtxt('Presaved_Models/training_losses.txt')\n",
        "val_losses = np.loadtxt('Presaved_Models/validation_losses.txt')"
      ],
      "execution_count": 0,
      "outputs": []
    },
    {
      "cell_type": "code",
      "metadata": {
        "Collapsed": "false",
        "id": "5nPsLVroRg20",
        "colab_type": "code",
        "colab": {},
        "outputId": "09692eaa-1617-4c95-ae65-0b85ab3f263f"
      },
      "source": [
        "plt.plot(\n",
        "    range(1, len(train_losses)+1), \n",
        "    train_losses, \n",
        "    label='Training Loss',\n",
        "    linewidth=2, \n",
        "    alpha=0.7\n",
        ")\n",
        "\n",
        "plt.plot(\n",
        "    range(1, len(val_losses)+1),\n",
        "    val_losses,\n",
        "    label='Validation Loss',\n",
        "    linewidth=2,\n",
        "    alpha=0.7\n",
        ")\n",
        "\n",
        "plt.title('VAE Font Training')\n",
        "plt.xlabel('Epoch')\n",
        "plt.ylabel('Loss')\n",
        "plt.legend()\n",
        "pass"
      ],
      "execution_count": 0,
      "outputs": [
        {
          "output_type": "display_data",
          "data": {
            "image/svg+xml": "<?xml version=\"1.0\" encoding=\"utf-8\" standalone=\"no\"?>\n<!DOCTYPE svg PUBLIC \"-//W3C//DTD SVG 1.1//EN\"\n  \"http://www.w3.org/Graphics/SVG/1.1/DTD/svg11.dtd\">\n<!-- Created with matplotlib (https://matplotlib.org/) -->\n<svg height=\"281.073625pt\" version=\"1.1\" viewBox=\"0 0 390.90125 281.073625\" width=\"390.90125pt\" xmlns=\"http://www.w3.org/2000/svg\" xmlns:xlink=\"http://www.w3.org/1999/xlink\">\n <defs>\n  <style type=\"text/css\">\n*{stroke-linecap:butt;stroke-linejoin:round;}\n  </style>\n </defs>\n <g id=\"figure_1\">\n  <g id=\"patch_1\">\n   <path d=\"M 0 281.073625 \nL 390.90125 281.073625 \nL 390.90125 0 \nL 0 0 \nz\n\" style=\"fill:#ffffff;\"/>\n  </g>\n  <g id=\"axes_1\">\n   <g id=\"patch_2\">\n    <path d=\"M 48.90125 241.58175 \nL 383.70125 241.58175 \nL 383.70125 24.14175 \nL 48.90125 24.14175 \nz\n\" style=\"fill:#e5e5e5;\"/>\n   </g>\n   <g id=\"matplotlib.axis_1\">\n    <g id=\"xtick_1\">\n     <g id=\"line2d_1\">\n      <path clip-path=\"url(#pcb478e4ef0)\" d=\"M 63.813231 241.58175 \nL 63.813231 24.14175 \n\" style=\"fill:none;stroke:#ffffff;stroke-linecap:square;stroke-width:0.8;\"/>\n     </g>\n     <g id=\"line2d_2\">\n      <defs>\n       <path d=\"M 0 0 \nL 0 3.5 \n\" id=\"m7bd6f85d81\" style=\"stroke:#555555;stroke-width:0.8;\"/>\n      </defs>\n      <g>\n       <use style=\"fill:#555555;stroke:#555555;stroke-width:0.8;\" x=\"63.813231\" xlink:href=\"#m7bd6f85d81\" y=\"241.58175\"/>\n      </g>\n     </g>\n     <g id=\"text_1\">\n      <!-- 0 -->\n      <defs>\n       <path d=\"M 31.78125 66.40625 \nQ 24.171875 66.40625 20.328125 58.90625 \nQ 16.5 51.421875 16.5 36.375 \nQ 16.5 21.390625 20.328125 13.890625 \nQ 24.171875 6.390625 31.78125 6.390625 \nQ 39.453125 6.390625 43.28125 13.890625 \nQ 47.125 21.390625 47.125 36.375 \nQ 47.125 51.421875 43.28125 58.90625 \nQ 39.453125 66.40625 31.78125 66.40625 \nz\nM 31.78125 74.21875 \nQ 44.046875 74.21875 50.515625 64.515625 \nQ 56.984375 54.828125 56.984375 36.375 \nQ 56.984375 17.96875 50.515625 8.265625 \nQ 44.046875 -1.421875 31.78125 -1.421875 \nQ 19.53125 -1.421875 13.0625 8.265625 \nQ 6.59375 17.96875 6.59375 36.375 \nQ 6.59375 54.828125 13.0625 64.515625 \nQ 19.53125 74.21875 31.78125 74.21875 \nz\n\" id=\"DejaVuSans-48\"/>\n      </defs>\n      <g style=\"fill:#555555;\" transform=\"translate(60.631981 256.180187)scale(0.1 -0.1)\">\n       <use xlink:href=\"#DejaVuSans-48\"/>\n      </g>\n     </g>\n    </g>\n    <g id=\"xtick_2\">\n     <g id=\"line2d_3\">\n      <path clip-path=\"url(#pcb478e4ef0)\" d=\"M 125.053399 241.58175 \nL 125.053399 24.14175 \n\" style=\"fill:none;stroke:#ffffff;stroke-linecap:square;stroke-width:0.8;\"/>\n     </g>\n     <g id=\"line2d_4\">\n      <g>\n       <use style=\"fill:#555555;stroke:#555555;stroke-width:0.8;\" x=\"125.053399\" xlink:href=\"#m7bd6f85d81\" y=\"241.58175\"/>\n      </g>\n     </g>\n     <g id=\"text_2\">\n      <!-- 200 -->\n      <defs>\n       <path d=\"M 19.1875 8.296875 \nL 53.609375 8.296875 \nL 53.609375 0 \nL 7.328125 0 \nL 7.328125 8.296875 \nQ 12.9375 14.109375 22.625 23.890625 \nQ 32.328125 33.6875 34.8125 36.53125 \nQ 39.546875 41.84375 41.421875 45.53125 \nQ 43.3125 49.21875 43.3125 52.78125 \nQ 43.3125 58.59375 39.234375 62.25 \nQ 35.15625 65.921875 28.609375 65.921875 \nQ 23.96875 65.921875 18.8125 64.3125 \nQ 13.671875 62.703125 7.8125 59.421875 \nL 7.8125 69.390625 \nQ 13.765625 71.78125 18.9375 73 \nQ 24.125 74.21875 28.421875 74.21875 \nQ 39.75 74.21875 46.484375 68.546875 \nQ 53.21875 62.890625 53.21875 53.421875 \nQ 53.21875 48.921875 51.53125 44.890625 \nQ 49.859375 40.875 45.40625 35.40625 \nQ 44.1875 33.984375 37.640625 27.21875 \nQ 31.109375 20.453125 19.1875 8.296875 \nz\n\" id=\"DejaVuSans-50\"/>\n      </defs>\n      <g style=\"fill:#555555;\" transform=\"translate(115.509649 256.180187)scale(0.1 -0.1)\">\n       <use xlink:href=\"#DejaVuSans-50\"/>\n       <use x=\"63.623047\" xlink:href=\"#DejaVuSans-48\"/>\n       <use x=\"127.246094\" xlink:href=\"#DejaVuSans-48\"/>\n      </g>\n     </g>\n    </g>\n    <g id=\"xtick_3\">\n     <g id=\"line2d_5\">\n      <path clip-path=\"url(#pcb478e4ef0)\" d=\"M 186.293568 241.58175 \nL 186.293568 24.14175 \n\" style=\"fill:none;stroke:#ffffff;stroke-linecap:square;stroke-width:0.8;\"/>\n     </g>\n     <g id=\"line2d_6\">\n      <g>\n       <use style=\"fill:#555555;stroke:#555555;stroke-width:0.8;\" x=\"186.293568\" xlink:href=\"#m7bd6f85d81\" y=\"241.58175\"/>\n      </g>\n     </g>\n     <g id=\"text_3\">\n      <!-- 400 -->\n      <defs>\n       <path d=\"M 37.796875 64.3125 \nL 12.890625 25.390625 \nL 37.796875 25.390625 \nz\nM 35.203125 72.90625 \nL 47.609375 72.90625 \nL 47.609375 25.390625 \nL 58.015625 25.390625 \nL 58.015625 17.1875 \nL 47.609375 17.1875 \nL 47.609375 0 \nL 37.796875 0 \nL 37.796875 17.1875 \nL 4.890625 17.1875 \nL 4.890625 26.703125 \nz\n\" id=\"DejaVuSans-52\"/>\n      </defs>\n      <g style=\"fill:#555555;\" transform=\"translate(176.749818 256.180187)scale(0.1 -0.1)\">\n       <use xlink:href=\"#DejaVuSans-52\"/>\n       <use x=\"63.623047\" xlink:href=\"#DejaVuSans-48\"/>\n       <use x=\"127.246094\" xlink:href=\"#DejaVuSans-48\"/>\n      </g>\n     </g>\n    </g>\n    <g id=\"xtick_4\">\n     <g id=\"line2d_7\">\n      <path clip-path=\"url(#pcb478e4ef0)\" d=\"M 247.533736 241.58175 \nL 247.533736 24.14175 \n\" style=\"fill:none;stroke:#ffffff;stroke-linecap:square;stroke-width:0.8;\"/>\n     </g>\n     <g id=\"line2d_8\">\n      <g>\n       <use style=\"fill:#555555;stroke:#555555;stroke-width:0.8;\" x=\"247.533736\" xlink:href=\"#m7bd6f85d81\" y=\"241.58175\"/>\n      </g>\n     </g>\n     <g id=\"text_4\">\n      <!-- 600 -->\n      <defs>\n       <path d=\"M 33.015625 40.375 \nQ 26.375 40.375 22.484375 35.828125 \nQ 18.609375 31.296875 18.609375 23.390625 \nQ 18.609375 15.53125 22.484375 10.953125 \nQ 26.375 6.390625 33.015625 6.390625 \nQ 39.65625 6.390625 43.53125 10.953125 \nQ 47.40625 15.53125 47.40625 23.390625 \nQ 47.40625 31.296875 43.53125 35.828125 \nQ 39.65625 40.375 33.015625 40.375 \nz\nM 52.59375 71.296875 \nL 52.59375 62.3125 \nQ 48.875 64.0625 45.09375 64.984375 \nQ 41.3125 65.921875 37.59375 65.921875 \nQ 27.828125 65.921875 22.671875 59.328125 \nQ 17.53125 52.734375 16.796875 39.40625 \nQ 19.671875 43.65625 24.015625 45.921875 \nQ 28.375 48.1875 33.59375 48.1875 \nQ 44.578125 48.1875 50.953125 41.515625 \nQ 57.328125 34.859375 57.328125 23.390625 \nQ 57.328125 12.15625 50.6875 5.359375 \nQ 44.046875 -1.421875 33.015625 -1.421875 \nQ 20.359375 -1.421875 13.671875 8.265625 \nQ 6.984375 17.96875 6.984375 36.375 \nQ 6.984375 53.65625 15.1875 63.9375 \nQ 23.390625 74.21875 37.203125 74.21875 \nQ 40.921875 74.21875 44.703125 73.484375 \nQ 48.484375 72.75 52.59375 71.296875 \nz\n\" id=\"DejaVuSans-54\"/>\n      </defs>\n      <g style=\"fill:#555555;\" transform=\"translate(237.989986 256.180187)scale(0.1 -0.1)\">\n       <use xlink:href=\"#DejaVuSans-54\"/>\n       <use x=\"63.623047\" xlink:href=\"#DejaVuSans-48\"/>\n       <use x=\"127.246094\" xlink:href=\"#DejaVuSans-48\"/>\n      </g>\n     </g>\n    </g>\n    <g id=\"xtick_5\">\n     <g id=\"line2d_9\">\n      <path clip-path=\"url(#pcb478e4ef0)\" d=\"M 308.773904 241.58175 \nL 308.773904 24.14175 \n\" style=\"fill:none;stroke:#ffffff;stroke-linecap:square;stroke-width:0.8;\"/>\n     </g>\n     <g id=\"line2d_10\">\n      <g>\n       <use style=\"fill:#555555;stroke:#555555;stroke-width:0.8;\" x=\"308.773904\" xlink:href=\"#m7bd6f85d81\" y=\"241.58175\"/>\n      </g>\n     </g>\n     <g id=\"text_5\">\n      <!-- 800 -->\n      <defs>\n       <path d=\"M 31.78125 34.625 \nQ 24.75 34.625 20.71875 30.859375 \nQ 16.703125 27.09375 16.703125 20.515625 \nQ 16.703125 13.921875 20.71875 10.15625 \nQ 24.75 6.390625 31.78125 6.390625 \nQ 38.8125 6.390625 42.859375 10.171875 \nQ 46.921875 13.96875 46.921875 20.515625 \nQ 46.921875 27.09375 42.890625 30.859375 \nQ 38.875 34.625 31.78125 34.625 \nz\nM 21.921875 38.8125 \nQ 15.578125 40.375 12.03125 44.71875 \nQ 8.5 49.078125 8.5 55.328125 \nQ 8.5 64.0625 14.71875 69.140625 \nQ 20.953125 74.21875 31.78125 74.21875 \nQ 42.671875 74.21875 48.875 69.140625 \nQ 55.078125 64.0625 55.078125 55.328125 \nQ 55.078125 49.078125 51.53125 44.71875 \nQ 48 40.375 41.703125 38.8125 \nQ 48.828125 37.15625 52.796875 32.3125 \nQ 56.78125 27.484375 56.78125 20.515625 \nQ 56.78125 9.90625 50.3125 4.234375 \nQ 43.84375 -1.421875 31.78125 -1.421875 \nQ 19.734375 -1.421875 13.25 4.234375 \nQ 6.78125 9.90625 6.78125 20.515625 \nQ 6.78125 27.484375 10.78125 32.3125 \nQ 14.796875 37.15625 21.921875 38.8125 \nz\nM 18.3125 54.390625 \nQ 18.3125 48.734375 21.84375 45.5625 \nQ 25.390625 42.390625 31.78125 42.390625 \nQ 38.140625 42.390625 41.71875 45.5625 \nQ 45.3125 48.734375 45.3125 54.390625 \nQ 45.3125 60.0625 41.71875 63.234375 \nQ 38.140625 66.40625 31.78125 66.40625 \nQ 25.390625 66.40625 21.84375 63.234375 \nQ 18.3125 60.0625 18.3125 54.390625 \nz\n\" id=\"DejaVuSans-56\"/>\n      </defs>\n      <g style=\"fill:#555555;\" transform=\"translate(299.230154 256.180187)scale(0.1 -0.1)\">\n       <use xlink:href=\"#DejaVuSans-56\"/>\n       <use x=\"63.623047\" xlink:href=\"#DejaVuSans-48\"/>\n       <use x=\"127.246094\" xlink:href=\"#DejaVuSans-48\"/>\n      </g>\n     </g>\n    </g>\n    <g id=\"xtick_6\">\n     <g id=\"line2d_11\">\n      <path clip-path=\"url(#pcb478e4ef0)\" d=\"M 370.014072 241.58175 \nL 370.014072 24.14175 \n\" style=\"fill:none;stroke:#ffffff;stroke-linecap:square;stroke-width:0.8;\"/>\n     </g>\n     <g id=\"line2d_12\">\n      <g>\n       <use style=\"fill:#555555;stroke:#555555;stroke-width:0.8;\" x=\"370.014072\" xlink:href=\"#m7bd6f85d81\" y=\"241.58175\"/>\n      </g>\n     </g>\n     <g id=\"text_6\">\n      <!-- 1000 -->\n      <defs>\n       <path d=\"M 12.40625 8.296875 \nL 28.515625 8.296875 \nL 28.515625 63.921875 \nL 10.984375 60.40625 \nL 10.984375 69.390625 \nL 28.421875 72.90625 \nL 38.28125 72.90625 \nL 38.28125 8.296875 \nL 54.390625 8.296875 \nL 54.390625 0 \nL 12.40625 0 \nz\n\" id=\"DejaVuSans-49\"/>\n      </defs>\n      <g style=\"fill:#555555;\" transform=\"translate(357.289072 256.180187)scale(0.1 -0.1)\">\n       <use xlink:href=\"#DejaVuSans-49\"/>\n       <use x=\"63.623047\" xlink:href=\"#DejaVuSans-48\"/>\n       <use x=\"127.246094\" xlink:href=\"#DejaVuSans-48\"/>\n       <use x=\"190.869141\" xlink:href=\"#DejaVuSans-48\"/>\n      </g>\n     </g>\n    </g>\n    <g id=\"text_7\">\n     <!-- Epoch -->\n     <defs>\n      <path d=\"M 9.8125 72.90625 \nL 55.90625 72.90625 \nL 55.90625 64.59375 \nL 19.671875 64.59375 \nL 19.671875 43.015625 \nL 54.390625 43.015625 \nL 54.390625 34.71875 \nL 19.671875 34.71875 \nL 19.671875 8.296875 \nL 56.78125 8.296875 \nL 56.78125 0 \nL 9.8125 0 \nz\n\" id=\"DejaVuSans-69\"/>\n      <path d=\"M 18.109375 8.203125 \nL 18.109375 -20.796875 \nL 9.078125 -20.796875 \nL 9.078125 54.6875 \nL 18.109375 54.6875 \nL 18.109375 46.390625 \nQ 20.953125 51.265625 25.265625 53.625 \nQ 29.59375 56 35.59375 56 \nQ 45.5625 56 51.78125 48.09375 \nQ 58.015625 40.1875 58.015625 27.296875 \nQ 58.015625 14.40625 51.78125 6.484375 \nQ 45.5625 -1.421875 35.59375 -1.421875 \nQ 29.59375 -1.421875 25.265625 0.953125 \nQ 20.953125 3.328125 18.109375 8.203125 \nz\nM 48.6875 27.296875 \nQ 48.6875 37.203125 44.609375 42.84375 \nQ 40.53125 48.484375 33.40625 48.484375 \nQ 26.265625 48.484375 22.1875 42.84375 \nQ 18.109375 37.203125 18.109375 27.296875 \nQ 18.109375 17.390625 22.1875 11.75 \nQ 26.265625 6.109375 33.40625 6.109375 \nQ 40.53125 6.109375 44.609375 11.75 \nQ 48.6875 17.390625 48.6875 27.296875 \nz\n\" id=\"DejaVuSans-112\"/>\n      <path d=\"M 30.609375 48.390625 \nQ 23.390625 48.390625 19.1875 42.75 \nQ 14.984375 37.109375 14.984375 27.296875 \nQ 14.984375 17.484375 19.15625 11.84375 \nQ 23.34375 6.203125 30.609375 6.203125 \nQ 37.796875 6.203125 41.984375 11.859375 \nQ 46.1875 17.53125 46.1875 27.296875 \nQ 46.1875 37.015625 41.984375 42.703125 \nQ 37.796875 48.390625 30.609375 48.390625 \nz\nM 30.609375 56 \nQ 42.328125 56 49.015625 48.375 \nQ 55.71875 40.765625 55.71875 27.296875 \nQ 55.71875 13.875 49.015625 6.21875 \nQ 42.328125 -1.421875 30.609375 -1.421875 \nQ 18.84375 -1.421875 12.171875 6.21875 \nQ 5.515625 13.875 5.515625 27.296875 \nQ 5.515625 40.765625 12.171875 48.375 \nQ 18.84375 56 30.609375 56 \nz\n\" id=\"DejaVuSans-111\"/>\n      <path d=\"M 48.78125 52.59375 \nL 48.78125 44.1875 \nQ 44.96875 46.296875 41.140625 47.34375 \nQ 37.3125 48.390625 33.40625 48.390625 \nQ 24.65625 48.390625 19.8125 42.84375 \nQ 14.984375 37.3125 14.984375 27.296875 \nQ 14.984375 17.28125 19.8125 11.734375 \nQ 24.65625 6.203125 33.40625 6.203125 \nQ 37.3125 6.203125 41.140625 7.25 \nQ 44.96875 8.296875 48.78125 10.40625 \nL 48.78125 2.09375 \nQ 45.015625 0.34375 40.984375 -0.53125 \nQ 36.96875 -1.421875 32.421875 -1.421875 \nQ 20.0625 -1.421875 12.78125 6.34375 \nQ 5.515625 14.109375 5.515625 27.296875 \nQ 5.515625 40.671875 12.859375 48.328125 \nQ 20.21875 56 33.015625 56 \nQ 37.15625 56 41.109375 55.140625 \nQ 45.0625 54.296875 48.78125 52.59375 \nz\n\" id=\"DejaVuSans-99\"/>\n      <path d=\"M 54.890625 33.015625 \nL 54.890625 0 \nL 45.90625 0 \nL 45.90625 32.71875 \nQ 45.90625 40.484375 42.875 44.328125 \nQ 39.84375 48.1875 33.796875 48.1875 \nQ 26.515625 48.1875 22.3125 43.546875 \nQ 18.109375 38.921875 18.109375 30.90625 \nL 18.109375 0 \nL 9.078125 0 \nL 9.078125 75.984375 \nL 18.109375 75.984375 \nL 18.109375 46.1875 \nQ 21.34375 51.125 25.703125 53.5625 \nQ 30.078125 56 35.796875 56 \nQ 45.21875 56 50.046875 50.171875 \nQ 54.890625 44.34375 54.890625 33.015625 \nz\n\" id=\"DejaVuSans-104\"/>\n     </defs>\n     <g style=\"fill:#555555;\" transform=\"translate(197.928125 271.378)scale(0.12 -0.12)\">\n      <use xlink:href=\"#DejaVuSans-69\"/>\n      <use x=\"63.183594\" xlink:href=\"#DejaVuSans-112\"/>\n      <use x=\"126.660156\" xlink:href=\"#DejaVuSans-111\"/>\n      <use x=\"187.841797\" xlink:href=\"#DejaVuSans-99\"/>\n      <use x=\"242.822266\" xlink:href=\"#DejaVuSans-104\"/>\n     </g>\n    </g>\n   </g>\n   <g id=\"matplotlib.axis_2\">\n    <g id=\"ytick_1\">\n     <g id=\"line2d_13\">\n      <path clip-path=\"url(#pcb478e4ef0)\" d=\"M 48.90125 217.719583 \nL 383.70125 217.719583 \n\" style=\"fill:none;stroke:#ffffff;stroke-linecap:square;stroke-width:0.8;\"/>\n     </g>\n     <g id=\"line2d_14\">\n      <defs>\n       <path d=\"M 0 0 \nL -3.5 0 \n\" id=\"m8d135fe6b2\" style=\"stroke:#555555;stroke-width:0.8;\"/>\n      </defs>\n      <g>\n       <use style=\"fill:#555555;stroke:#555555;stroke-width:0.8;\" x=\"48.90125\" xlink:href=\"#m8d135fe6b2\" y=\"217.719583\"/>\n      </g>\n     </g>\n     <g id=\"text_8\">\n      <!-- 250 -->\n      <defs>\n       <path d=\"M 10.796875 72.90625 \nL 49.515625 72.90625 \nL 49.515625 64.59375 \nL 19.828125 64.59375 \nL 19.828125 46.734375 \nQ 21.96875 47.46875 24.109375 47.828125 \nQ 26.265625 48.1875 28.421875 48.1875 \nQ 40.625 48.1875 47.75 41.5 \nQ 54.890625 34.8125 54.890625 23.390625 \nQ 54.890625 11.625 47.5625 5.09375 \nQ 40.234375 -1.421875 26.90625 -1.421875 \nQ 22.3125 -1.421875 17.546875 -0.640625 \nQ 12.796875 0.140625 7.71875 1.703125 \nL 7.71875 11.625 \nQ 12.109375 9.234375 16.796875 8.0625 \nQ 21.484375 6.890625 26.703125 6.890625 \nQ 35.15625 6.890625 40.078125 11.328125 \nQ 45.015625 15.765625 45.015625 23.390625 \nQ 45.015625 31 40.078125 35.4375 \nQ 35.15625 39.890625 26.703125 39.890625 \nQ 22.75 39.890625 18.8125 39.015625 \nQ 14.890625 38.140625 10.796875 36.28125 \nz\n\" id=\"DejaVuSans-53\"/>\n      </defs>\n      <g style=\"fill:#555555;\" transform=\"translate(22.81375 221.518802)scale(0.1 -0.1)\">\n       <use xlink:href=\"#DejaVuSans-50\"/>\n       <use x=\"63.623047\" xlink:href=\"#DejaVuSans-53\"/>\n       <use x=\"127.246094\" xlink:href=\"#DejaVuSans-48\"/>\n      </g>\n     </g>\n    </g>\n    <g id=\"ytick_2\">\n     <g id=\"line2d_15\">\n      <path clip-path=\"url(#pcb478e4ef0)\" d=\"M 48.90125 188.802475 \nL 383.70125 188.802475 \n\" style=\"fill:none;stroke:#ffffff;stroke-linecap:square;stroke-width:0.8;\"/>\n     </g>\n     <g id=\"line2d_16\">\n      <g>\n       <use style=\"fill:#555555;stroke:#555555;stroke-width:0.8;\" x=\"48.90125\" xlink:href=\"#m8d135fe6b2\" y=\"188.802475\"/>\n      </g>\n     </g>\n     <g id=\"text_9\">\n      <!-- 275 -->\n      <defs>\n       <path d=\"M 8.203125 72.90625 \nL 55.078125 72.90625 \nL 55.078125 68.703125 \nL 28.609375 0 \nL 18.3125 0 \nL 43.21875 64.59375 \nL 8.203125 64.59375 \nz\n\" id=\"DejaVuSans-55\"/>\n      </defs>\n      <g style=\"fill:#555555;\" transform=\"translate(22.81375 192.601694)scale(0.1 -0.1)\">\n       <use xlink:href=\"#DejaVuSans-50\"/>\n       <use x=\"63.623047\" xlink:href=\"#DejaVuSans-55\"/>\n       <use x=\"127.246094\" xlink:href=\"#DejaVuSans-53\"/>\n      </g>\n     </g>\n    </g>\n    <g id=\"ytick_3\">\n     <g id=\"line2d_17\">\n      <path clip-path=\"url(#pcb478e4ef0)\" d=\"M 48.90125 159.885366 \nL 383.70125 159.885366 \n\" style=\"fill:none;stroke:#ffffff;stroke-linecap:square;stroke-width:0.8;\"/>\n     </g>\n     <g id=\"line2d_18\">\n      <g>\n       <use style=\"fill:#555555;stroke:#555555;stroke-width:0.8;\" x=\"48.90125\" xlink:href=\"#m8d135fe6b2\" y=\"159.885366\"/>\n      </g>\n     </g>\n     <g id=\"text_10\">\n      <!-- 300 -->\n      <defs>\n       <path d=\"M 40.578125 39.3125 \nQ 47.65625 37.796875 51.625 33 \nQ 55.609375 28.21875 55.609375 21.1875 \nQ 55.609375 10.40625 48.1875 4.484375 \nQ 40.765625 -1.421875 27.09375 -1.421875 \nQ 22.515625 -1.421875 17.65625 -0.515625 \nQ 12.796875 0.390625 7.625 2.203125 \nL 7.625 11.71875 \nQ 11.71875 9.328125 16.59375 8.109375 \nQ 21.484375 6.890625 26.8125 6.890625 \nQ 36.078125 6.890625 40.9375 10.546875 \nQ 45.796875 14.203125 45.796875 21.1875 \nQ 45.796875 27.640625 41.28125 31.265625 \nQ 36.765625 34.90625 28.71875 34.90625 \nL 20.21875 34.90625 \nL 20.21875 43.015625 \nL 29.109375 43.015625 \nQ 36.375 43.015625 40.234375 45.921875 \nQ 44.09375 48.828125 44.09375 54.296875 \nQ 44.09375 59.90625 40.109375 62.90625 \nQ 36.140625 65.921875 28.71875 65.921875 \nQ 24.65625 65.921875 20.015625 65.03125 \nQ 15.375 64.15625 9.8125 62.3125 \nL 9.8125 71.09375 \nQ 15.4375 72.65625 20.34375 73.4375 \nQ 25.25 74.21875 29.59375 74.21875 \nQ 40.828125 74.21875 47.359375 69.109375 \nQ 53.90625 64.015625 53.90625 55.328125 \nQ 53.90625 49.265625 50.4375 45.09375 \nQ 46.96875 40.921875 40.578125 39.3125 \nz\n\" id=\"DejaVuSans-51\"/>\n      </defs>\n      <g style=\"fill:#555555;\" transform=\"translate(22.81375 163.684585)scale(0.1 -0.1)\">\n       <use xlink:href=\"#DejaVuSans-51\"/>\n       <use x=\"63.623047\" xlink:href=\"#DejaVuSans-48\"/>\n       <use x=\"127.246094\" xlink:href=\"#DejaVuSans-48\"/>\n      </g>\n     </g>\n    </g>\n    <g id=\"ytick_4\">\n     <g id=\"line2d_19\">\n      <path clip-path=\"url(#pcb478e4ef0)\" d=\"M 48.90125 130.968258 \nL 383.70125 130.968258 \n\" style=\"fill:none;stroke:#ffffff;stroke-linecap:square;stroke-width:0.8;\"/>\n     </g>\n     <g id=\"line2d_20\">\n      <g>\n       <use style=\"fill:#555555;stroke:#555555;stroke-width:0.8;\" x=\"48.90125\" xlink:href=\"#m8d135fe6b2\" y=\"130.968258\"/>\n      </g>\n     </g>\n     <g id=\"text_11\">\n      <!-- 325 -->\n      <g style=\"fill:#555555;\" transform=\"translate(22.81375 134.767476)scale(0.1 -0.1)\">\n       <use xlink:href=\"#DejaVuSans-51\"/>\n       <use x=\"63.623047\" xlink:href=\"#DejaVuSans-50\"/>\n       <use x=\"127.246094\" xlink:href=\"#DejaVuSans-53\"/>\n      </g>\n     </g>\n    </g>\n    <g id=\"ytick_5\">\n     <g id=\"line2d_21\">\n      <path clip-path=\"url(#pcb478e4ef0)\" d=\"M 48.90125 102.051149 \nL 383.70125 102.051149 \n\" style=\"fill:none;stroke:#ffffff;stroke-linecap:square;stroke-width:0.8;\"/>\n     </g>\n     <g id=\"line2d_22\">\n      <g>\n       <use style=\"fill:#555555;stroke:#555555;stroke-width:0.8;\" x=\"48.90125\" xlink:href=\"#m8d135fe6b2\" y=\"102.051149\"/>\n      </g>\n     </g>\n     <g id=\"text_12\">\n      <!-- 350 -->\n      <g style=\"fill:#555555;\" transform=\"translate(22.81375 105.850368)scale(0.1 -0.1)\">\n       <use xlink:href=\"#DejaVuSans-51\"/>\n       <use x=\"63.623047\" xlink:href=\"#DejaVuSans-53\"/>\n       <use x=\"127.246094\" xlink:href=\"#DejaVuSans-48\"/>\n      </g>\n     </g>\n    </g>\n    <g id=\"ytick_6\">\n     <g id=\"line2d_23\">\n      <path clip-path=\"url(#pcb478e4ef0)\" d=\"M 48.90125 73.134041 \nL 383.70125 73.134041 \n\" style=\"fill:none;stroke:#ffffff;stroke-linecap:square;stroke-width:0.8;\"/>\n     </g>\n     <g id=\"line2d_24\">\n      <g>\n       <use style=\"fill:#555555;stroke:#555555;stroke-width:0.8;\" x=\"48.90125\" xlink:href=\"#m8d135fe6b2\" y=\"73.134041\"/>\n      </g>\n     </g>\n     <g id=\"text_13\">\n      <!-- 375 -->\n      <g style=\"fill:#555555;\" transform=\"translate(22.81375 76.933259)scale(0.1 -0.1)\">\n       <use xlink:href=\"#DejaVuSans-51\"/>\n       <use x=\"63.623047\" xlink:href=\"#DejaVuSans-55\"/>\n       <use x=\"127.246094\" xlink:href=\"#DejaVuSans-53\"/>\n      </g>\n     </g>\n    </g>\n    <g id=\"ytick_7\">\n     <g id=\"line2d_25\">\n      <path clip-path=\"url(#pcb478e4ef0)\" d=\"M 48.90125 44.216932 \nL 383.70125 44.216932 \n\" style=\"fill:none;stroke:#ffffff;stroke-linecap:square;stroke-width:0.8;\"/>\n     </g>\n     <g id=\"line2d_26\">\n      <g>\n       <use style=\"fill:#555555;stroke:#555555;stroke-width:0.8;\" x=\"48.90125\" xlink:href=\"#m8d135fe6b2\" y=\"44.216932\"/>\n      </g>\n     </g>\n     <g id=\"text_14\">\n      <!-- 400 -->\n      <g style=\"fill:#555555;\" transform=\"translate(22.81375 48.016151)scale(0.1 -0.1)\">\n       <use xlink:href=\"#DejaVuSans-52\"/>\n       <use x=\"63.623047\" xlink:href=\"#DejaVuSans-48\"/>\n       <use x=\"127.246094\" xlink:href=\"#DejaVuSans-48\"/>\n      </g>\n     </g>\n    </g>\n    <g id=\"text_15\">\n     <!-- Loss -->\n     <defs>\n      <path d=\"M 9.8125 72.90625 \nL 19.671875 72.90625 \nL 19.671875 8.296875 \nL 55.171875 8.296875 \nL 55.171875 0 \nL 9.8125 0 \nz\n\" id=\"DejaVuSans-76\"/>\n      <path d=\"M 44.28125 53.078125 \nL 44.28125 44.578125 \nQ 40.484375 46.53125 36.375 47.5 \nQ 32.28125 48.484375 27.875 48.484375 \nQ 21.1875 48.484375 17.84375 46.4375 \nQ 14.5 44.390625 14.5 40.28125 \nQ 14.5 37.15625 16.890625 35.375 \nQ 19.28125 33.59375 26.515625 31.984375 \nL 29.59375 31.296875 \nQ 39.15625 29.25 43.1875 25.515625 \nQ 47.21875 21.78125 47.21875 15.09375 \nQ 47.21875 7.46875 41.1875 3.015625 \nQ 35.15625 -1.421875 24.609375 -1.421875 \nQ 20.21875 -1.421875 15.453125 -0.5625 \nQ 10.6875 0.296875 5.421875 2 \nL 5.421875 11.28125 \nQ 10.40625 8.6875 15.234375 7.390625 \nQ 20.0625 6.109375 24.8125 6.109375 \nQ 31.15625 6.109375 34.5625 8.28125 \nQ 37.984375 10.453125 37.984375 14.40625 \nQ 37.984375 18.0625 35.515625 20.015625 \nQ 33.0625 21.96875 24.703125 23.78125 \nL 21.578125 24.515625 \nQ 13.234375 26.265625 9.515625 29.90625 \nQ 5.8125 33.546875 5.8125 39.890625 \nQ 5.8125 47.609375 11.28125 51.796875 \nQ 16.75 56 26.8125 56 \nQ 31.78125 56 36.171875 55.265625 \nQ 40.578125 54.546875 44.28125 53.078125 \nz\n\" id=\"DejaVuSans-115\"/>\n     </defs>\n     <g style=\"fill:#555555;\" transform=\"translate(16.318125 146.126438)rotate(-90)scale(0.12 -0.12)\">\n      <use xlink:href=\"#DejaVuSans-76\"/>\n      <use x=\"55.697266\" xlink:href=\"#DejaVuSans-111\"/>\n      <use x=\"116.878906\" xlink:href=\"#DejaVuSans-115\"/>\n      <use x=\"168.978516\" xlink:href=\"#DejaVuSans-115\"/>\n     </g>\n    </g>\n   </g>\n   <g id=\"line2d_27\">\n    <path clip-path=\"url(#pcb478e4ef0)\" d=\"M 64.119432 34.025386 \nL 64.425633 155.604478 \nL 64.731834 176.976534 \nL 65.038034 186.538844 \nL 65.650436 196.199471 \nL 66.262838 201.271532 \nL 67.487641 206.658211 \nL 68.100043 208.799234 \nL 68.712444 210.469486 \nL 69.018645 211.104506 \nL 69.324846 212.032166 \nL 69.937248 213.050049 \nL 71.162051 215.067306 \nL 71.468252 215.380768 \nL 71.774453 215.336814 \nL 72.386855 216.505065 \nL 72.693055 216.928411 \nL 72.999256 216.616107 \nL 73.305457 217.326311 \nL 73.611658 217.621265 \nL 73.917859 218.131363 \nL 74.22406 217.901183 \nL 75.142662 219.00119 \nL 75.448863 218.887835 \nL 75.755064 219.205923 \nL 76.061265 219.327375 \nL 76.367465 219.668596 \nL 76.673666 219.661656 \nL 76.979867 220.072279 \nL 77.286068 219.954298 \nL 77.592269 220.405404 \nL 77.89847 220.410031 \nL 78.204671 220.78364 \nL 78.510871 220.848415 \nL 78.817072 220.747783 \nL 79.123273 221.21971 \nL 79.429474 220.988373 \nL 80.654277 221.656937 \nL 81.266679 221.794582 \nL 81.57288 222.171661 \nL 81.879081 222.083753 \nL 83.410085 222.450422 \nL 84.022487 222.834442 \nL 84.328687 222.684073 \nL 85.24729 223.280922 \nL 85.553491 223.154843 \nL 87.084495 223.538862 \nL 87.390696 223.487968 \nL 87.696897 223.919411 \nL 88.003097 223.549272 \nL 88.309298 223.890494 \nL 88.615499 224.06284 \nL 89.227901 223.631397 \nL 89.534102 223.936762 \nL 90.452704 224.365892 \nL 91.065106 224.193546 \nL 92.289909 224.626146 \nL 93.208512 224.561371 \nL 93.514713 224.586818 \nL 94.127114 224.916473 \nL 94.433315 224.844759 \nL 94.739516 225.011321 \nL 95.351918 225.022888 \nL 95.658118 225.124677 \nL 96.576721 225.076096 \nL 96.882922 225.246128 \nL 97.189123 225.221838 \nL 97.495324 225.553806 \nL 97.801524 225.183667 \nL 98.107725 225.659065 \nL 98.413926 225.33635 \nL 99.026328 225.733092 \nL 99.332529 225.409221 \nL 99.638729 225.539926 \nL 99.94493 225.424258 \nL 100.251131 225.668318 \nL 100.557332 225.727309 \nL 100.863533 225.482092 \nL 101.169734 225.926259 \nL 101.475934 225.698392 \nL 102.088336 225.741189 \nL 102.394537 225.947079 \nL 102.700738 225.832567 \nL 103.006939 225.893872 \nL 103.31314 225.788613 \nL 103.61934 226.100918 \nL 104.231742 225.989876 \nL 104.537943 226.158752 \nL 105.150345 226.063904 \nL 105.456545 226.21543 \nL 106.068947 226.24666 \nL 106.375148 226.321845 \nL 106.98755 226.031517 \nL 107.906152 226.375052 \nL 108.518554 226.280204 \nL 108.824755 226.388933 \nL 109.437156 226.188826 \nL 110.049558 226.440983 \nL 110.355759 226.282518 \nL 110.66196 226.392403 \nL 110.968161 226.299868 \nL 111.580562 226.423633 \nL 112.499165 226.467587 \nL 112.805366 226.627209 \nL 113.111566 226.517324 \nL 113.417767 226.636463 \nL 113.723968 226.488407 \nL 114.030169 226.608703 \nL 114.33637 226.918694 \nL 114.948771 226.535831 \nL 115.561173 226.786832 \nL 116.173575 226.929104 \nL 116.479776 226.549712 \nL 117.092177 226.862016 \nL 117.704579 226.862016 \nL 118.01078 226.704707 \nL 118.623182 227.234469 \nL 118.929382 226.6862 \nL 119.235583 226.772952 \nL 119.541784 227.151187 \nL 119.847985 226.8678 \nL 120.460387 226.929104 \nL 120.766587 227.140777 \nL 121.68519 227.172008 \nL 121.991391 227.251819 \nL 122.297592 226.993878 \nL 122.603793 227.3351 \nL 122.909993 226.929104 \nL 123.216194 227.455395 \nL 123.522395 227.175478 \nL 123.828596 227.192828 \nL 124.134797 227.086413 \nL 124.440998 227.256446 \nL 124.747198 227.126897 \nL 125.053399 227.429948 \nL 125.3596 227.258759 \nL 125.665801 227.528267 \nL 125.972002 227.419538 \nL 126.278203 227.060966 \nL 126.584403 227.361704 \nL 127.503006 227.31775 \nL 127.809207 227.575691 \nL 128.115408 227.471589 \nL 128.421609 227.627741 \nL 128.727809 227.277266 \nL 129.03401 227.582631 \nL 129.340211 227.690202 \nL 129.646412 227.495879 \nL 130.258814 227.478529 \nL 130.565014 227.639308 \nL 130.871215 227.52017 \nL 131.177416 227.646248 \nL 131.483617 227.479686 \nL 131.789818 227.682106 \nL 132.096019 227.419538 \nL 132.402219 227.804714 \nL 132.70842 227.536363 \nL 133.014621 227.602294 \nL 133.320822 227.876429 \nL 133.627023 227.632368 \nL 133.933224 227.824378 \nL 134.239425 227.512073 \nL 134.545625 227.793147 \nL 134.851826 227.689046 \nL 135.770429 227.94583 \nL 136.07663 227.707553 \nL 136.689031 227.709866 \nL 136.995232 228.145936 \nL 137.301433 227.798931 \nL 137.607634 227.705239 \nL 137.913835 228.056871 \nL 138.526236 227.955083 \nL 138.832437 228.026798 \nL 139.138638 227.737626 \nL 139.444839 227.978217 \nL 139.75104 227.953926 \nL 140.05724 228.063811 \nL 140.363441 227.871802 \nL 140.669642 228.095042 \nL 140.975843 228.078848 \nL 141.282044 227.918069 \nL 141.588245 227.916913 \nL 142.200646 228.125116 \nL 142.506847 227.962023 \nL 142.813048 228.160973 \nL 144.037851 228.069595 \nL 144.344052 228.056871 \nL 144.650253 227.770014 \nL 144.956454 228.253508 \nL 145.262655 228.029111 \nL 145.568856 228.225747 \nL 145.875056 227.955083 \nL 146.181257 228.275485 \nL 146.487458 228.276641 \nL 146.793659 228.056871 \nL 147.09986 228.356453 \nL 147.406061 228.123959 \nL 148.018462 228.216494 \nL 148.324663 228.280111 \nL 148.630864 228.133212 \nL 148.937065 228.438577 \nL 149.243266 228.506822 \nL 149.549467 228.38884 \nL 149.855667 228.044148 \nL 150.161868 228.484845 \nL 150.77427 228.225747 \nL 151.386672 228.414287 \nL 151.999073 228.341416 \nL 152.305274 228.513762 \nL 152.917676 228.370333 \nL 153.530078 228.62249 \nL 153.836278 228.555402 \nL 154.142479 228.293992 \nL 154.44868 228.591259 \nL 154.754881 228.451301 \nL 155.061082 228.533425 \nL 155.367283 228.335632 \nL 155.673483 228.758979 \nL 155.979684 228.502195 \nL 156.898287 228.576223 \nL 157.204488 228.771702 \nL 157.510688 228.358766 \nL 157.816889 228.586633 \nL 158.12309 228.516075 \nL 158.429291 228.569282 \nL 158.735492 228.348356 \nL 159.041693 228.595886 \nL 159.960295 228.741628 \nL 160.266496 228.467494 \nL 160.878898 228.765919 \nL 161.185099 228.580849 \nL 161.491299 228.894311 \nL 161.7975 228.59473 \nL 162.103701 228.879274 \nL 162.409902 228.5982 \nL 162.716103 228.696518 \nL 163.328504 228.529955 \nL 164.247107 228.830693 \nL 164.553308 228.836477 \nL 164.859509 229.107141 \nL 165.165709 228.620177 \nL 165.778111 228.848043 \nL 166.696714 228.871177 \nL 167.002915 228.757822 \nL 167.615316 229.026173 \nL 167.921517 228.801776 \nL 168.227718 228.850357 \nL 168.84012 228.63637 \nL 169.14632 228.84573 \nL 169.452521 228.725435 \nL 169.758722 228.872334 \nL 170.064923 229.155721 \nL 170.371124 228.898938 \nL 171.595927 229.033113 \nL 172.51453 228.792523 \nL 173.126931 229.08285 \nL 173.433132 228.953302 \nL 174.351735 229.251726 \nL 175.270337 228.894311 \nL 175.576538 229.180012 \nL 176.18894 229.146468 \nL 176.495141 229.175385 \nL 176.801341 228.964869 \nL 177.719944 229.284113 \nL 178.638547 229.029643 \nL 178.944747 229.217026 \nL 179.250948 229.035426 \nL 179.557149 229.296837 \nL 179.86335 229.144155 \nL 180.475752 229.223966 \nL 180.781952 229.170758 \nL 181.088153 229.29568 \nL 181.394354 229.286427 \nL 181.700555 229.148781 \nL 182.006756 229.381275 \nL 182.312957 229.137215 \nL 182.619157 229.333851 \nL 183.231559 229.262136 \nL 183.53776 229.255196 \nL 183.843961 229.362768 \nL 184.150162 229.195049 \nL 184.762563 229.436796 \nL 185.068764 229.215869 \nL 185.374965 229.319971 \nL 185.987367 229.124491 \nL 186.293568 229.383588 \nL 186.599768 229.145311 \nL 186.905969 229.071283 \nL 187.21217 229.47728 \nL 187.824572 229.382432 \nL 188.436973 229.486533 \nL 188.743174 229.521234 \nL 189.049375 229.363925 \nL 189.661777 229.535114 \nL 189.967978 229.458773 \nL 190.274178 229.550151 \nL 190.580379 229.363925 \nL 190.88658 229.321127 \nL 191.498982 229.619552 \nL 191.805183 229.572128 \nL 192.111384 229.346574 \nL 192.723785 229.304934 \nL 193.029986 229.51198 \nL 193.336187 229.483063 \nL 193.642388 229.698206 \nL 193.948589 229.478436 \nL 194.254789 229.510824 \nL 194.867191 229.317657 \nL 195.785794 229.708617 \nL 196.091994 229.575598 \nL 196.398195 229.872866 \nL 196.704396 229.447206 \nL 197.316798 229.50851 \nL 197.622999 229.7144 \nL 197.9292 229.474966 \nL 198.541601 229.832382 \nL 198.847802 229.496943 \nL 199.154003 229.672759 \nL 200.072605 229.872866 \nL 200.378806 229.573285 \nL 200.991208 229.584851 \nL 201.297409 229.443736 \nL 201.60361 229.817345 \nL 202.216011 229.564031 \nL 202.522212 229.805778 \nL 202.828413 229.566344 \nL 203.134614 229.673916 \nL 203.440815 229.904096 \nL 203.747016 229.922603 \nL 204.053216 229.609142 \nL 204.665618 229.928387 \nL 204.971819 229.648469 \nL 205.27802 229.887903 \nL 205.890421 229.715557 \nL 206.809024 229.894843 \nL 207.115225 229.761824 \nL 207.421426 229.931857 \nL 208.033827 229.756041 \nL 208.340028 229.787271 \nL 208.646229 229.997788 \nL 208.95243 229.936483 \nL 209.258631 229.632275 \nL 209.871032 229.93417 \nL 210.177233 229.899469 \nL 210.483434 229.990848 \nL 210.789635 229.756041 \nL 211.708237 229.926073 \nL 212.014438 229.779174 \nL 212.320639 229.871709 \nL 212.62684 230.105359 \nL 212.933041 229.936483 \nL 213.851643 229.897156 \nL 214.157844 230.15741 \nL 214.464045 229.715557 \nL 214.770246 229.957304 \nL 215.076447 229.972341 \nL 215.382647 230.123866 \nL 215.995049 229.804621 \nL 216.607451 230.063719 \nL 216.913652 229.942267 \nL 217.526053 230.055622 \nL 218.138455 229.795368 \nL 218.444656 229.798838 \nL 218.750857 229.919133 \nL 219.057058 230.379493 \nL 219.363258 229.72481 \nL 219.97566 230.018608 \nL 220.894263 230.029018 \nL 221.200463 230.142373 \nL 221.506664 230.009354 \nL 221.812865 230.17476 \nL 222.119066 230.141217 \nL 222.425267 229.945737 \nL 222.731468 229.945737 \nL 223.037669 230.097263 \nL 223.343869 230.009354 \nL 223.65007 230.256885 \nL 224.568673 229.936483 \nL 224.874874 230.258042 \nL 225.181074 229.987377 \nL 225.487275 230.227968 \nL 225.793476 230.251102 \nL 226.099677 230.086852 \nL 226.405878 230.317033 \nL 227.018279 230.114613 \nL 227.32448 230.053309 \nL 227.936882 230.148157 \nL 228.243083 229.971184 \nL 228.549284 230.245318 \nL 230.080288 230.031331 \nL 230.69269 230.275392 \nL 230.99889 230.172447 \nL 231.305091 230.326286 \nL 231.611292 230.12271 \nL 231.917493 230.105359 \nL 232.223694 230.234908 \nL 232.529895 230.125023 \nL 232.836095 230.295056 \nL 233.142296 230.201364 \nL 233.754698 230.392217 \nL 234.060899 230.263825 \nL 234.3671 230.411881 \nL 234.6733 230.208304 \nL 237.122907 230.357516 \nL 237.429108 229.967714 \nL 237.735309 230.326286 \nL 238.347711 230.433858 \nL 238.653911 230.337853 \nL 239.266313 230.450051 \nL 240.184916 230.16435 \nL 240.797317 230.358673 \nL 241.71592 230.37024 \nL 242.022121 230.446581 \nL 242.328322 230.205991 \nL 242.634522 230.466245 \nL 242.940723 230.437328 \nL 243.246924 230.535646 \nL 243.553125 230.241848 \nL 243.859326 230.406097 \nL 244.165527 230.441954 \nL 244.471727 230.184014 \nL 244.777928 230.643218 \nL 245.084129 230.439641 \nL 245.696531 230.588853 \nL 246.002732 230.365613 \nL 246.615133 230.348263 \nL 246.921334 230.587697 \nL 247.227535 230.273079 \nL 247.839937 230.308936 \nL 248.146138 230.476655 \nL 249.06474 230.536803 \nL 249.370941 230.399157 \nL 249.677142 230.622397 \nL 249.983343 230.304309 \nL 250.289543 230.503259 \nL 250.595744 230.512512 \nL 250.901945 230.379493 \nL 251.514347 230.454678 \nL 251.820548 230.231438 \nL 252.126748 230.561093 \nL 253.045351 230.378337 \nL 253.351552 230.703365 \nL 253.657753 230.502102 \nL 253.963953 230.472028 \nL 254.270154 230.682545 \nL 254.576355 230.433858 \nL 254.882556 230.639747 \nL 255.188757 230.441954 \nL 255.494958 230.392217 \nL 255.801159 230.588853 \nL 256.41356 230.689485 \nL 256.719761 230.435014 \nL 257.025962 230.426918 \nL 257.638364 230.615457 \nL 258.250765 230.502102 \nL 258.863167 230.750789 \nL 259.169368 230.472028 \nL 260.08797 230.61083 \nL 261.312774 230.647844 \nL 261.618975 230.751946 \nL 261.925175 230.540273 \nL 262.231376 230.487065 \nL 262.537577 230.709149 \nL 262.843778 230.524079 \nL 263.149979 230.793586 \nL 263.45618 230.543743 \nL 263.76238 230.476655 \nL 264.068581 230.938172 \nL 264.374782 230.550683 \nL 264.680983 230.733439 \nL 264.987184 230.554153 \nL 265.293385 230.770453 \nL 265.599585 230.599264 \nL 265.905786 230.731126 \nL 266.211987 230.522922 \nL 266.518188 230.857204 \nL 266.824389 230.933545 \nL 267.13059 230.844481 \nL 267.436791 230.613144 \nL 267.742991 230.784333 \nL 268.049192 230.691798 \nL 268.355393 230.727655 \nL 268.661594 230.647844 \nL 268.967795 230.828287 \nL 269.273996 230.655941 \nL 269.580196 230.616614 \nL 269.886397 230.798213 \nL 270.192598 230.839854 \nL 270.805 230.61777 \nL 271.111201 230.847951 \nL 271.417401 230.61777 \nL 271.723602 230.635121 \nL 272.029803 230.895375 \nL 272.336004 230.698738 \nL 273.560807 230.768139 \nL 273.867008 230.956679 \nL 274.173209 230.664038 \nL 274.47941 230.846794 \nL 274.785611 230.865301 \nL 275.091812 230.642061 \nL 275.398012 230.835227 \nL 275.704213 230.698738 \nL 276.622816 230.894218 \nL 276.929017 230.698738 \nL 277.235217 230.791273 \nL 277.541418 230.666351 \nL 277.847619 230.783176 \nL 278.15382 230.682545 \nL 278.460021 230.911568 \nL 279.378623 230.81325 \nL 279.991025 230.847951 \nL 280.297226 230.800527 \nL 280.909628 231.064251 \nL 281.215828 230.831757 \nL 281.522029 230.80978 \nL 281.82823 230.993693 \nL 282.134431 231.030707 \nL 282.440632 230.763513 \nL 282.746833 231.031863 \nL 283.359234 230.736909 \nL 283.665435 231.056154 \nL 283.971636 230.772766 \nL 284.584038 230.928919 \nL 285.196439 230.916195 \nL 285.50264 231.01914 \nL 285.808841 230.923135 \nL 286.115042 231.081601 \nL 286.421243 230.83754 \nL 287.339845 230.955522 \nL 287.646046 231.24932 \nL 287.952247 230.838697 \nL 288.564649 230.906942 \nL 288.870849 231.01914 \nL 289.483251 230.918508 \nL 289.789452 230.838697 \nL 290.095653 230.999476 \nL 290.401854 230.844481 \nL 290.708054 230.99138 \nL 291.014255 230.895375 \nL 291.626657 231.102421 \nL 291.932858 230.861831 \nL 292.239059 231.002946 \nL 293.463862 230.983283 \nL 293.770063 230.849107 \nL 294.076264 230.946269 \nL 294.382465 230.884965 \nL 294.688665 230.955522 \nL 294.994866 230.904628 \nL 295.913469 231.092011 \nL 296.21967 230.768139 \nL 296.52587 230.743849 \nL 297.444473 231.079288 \nL 297.750674 231.070034 \nL 298.056875 230.939329 \nL 298.669276 231.148689 \nL 299.587879 230.81672 \nL 299.89408 231.198426 \nL 300.200281 231.22503 \nL 300.506481 230.982126 \nL 300.812682 230.940485 \nL 301.118883 231.212306 \nL 301.425084 231.085071 \nL 302.037486 231.148689 \nL 302.649887 231.098951 \nL 302.956088 230.831757 \nL 303.262289 231.197269 \nL 303.874691 231.213463 \nL 304.180891 230.955522 \nL 304.487092 231.21809 \nL 304.793293 231.024923 \nL 305.099494 231.075817 \nL 305.405695 230.954366 \nL 305.711896 231.076974 \nL 306.018097 230.928919 \nL 306.936699 231.205366 \nL 307.2429 230.980969 \nL 307.549101 230.921978 \nL 307.855302 231.302528 \nL 308.161502 231.118615 \nL 308.773904 231.130182 \nL 309.080105 231.344168 \nL 309.386306 231.081601 \nL 309.998707 231.330288 \nL 310.304908 231.159099 \nL 311.223511 231.200739 \nL 311.529712 231.304841 \nL 313.060716 231.140592 \nL 313.366917 231.304841 \nL 313.673118 231.138278 \nL 313.979318 231.25973 \nL 314.59172 231.271297 \nL 314.897921 231.366145 \nL 315.204122 231.257417 \nL 315.510323 230.99138 \nL 315.816523 231.285177 \nL 316.428925 231.051527 \nL 317.041327 231.393906 \nL 317.347528 231.01567 \nL 317.653729 231.398532 \nL 318.26613 231.207679 \nL 318.878532 231.312938 \nL 319.184733 231.23197 \nL 319.490934 231.404316 \nL 319.797134 231.279394 \nL 320.103335 231.343012 \nL 320.409536 231.00873 \nL 320.715737 231.366145 \nL 321.021938 231.548901 \nL 321.328139 230.800527 \nL 321.94054 231.43092 \nL 322.246741 231.092011 \nL 322.552942 231.229656 \nL 323.165344 231.171822 \nL 323.471544 231.572035 \nL 323.777745 231.223873 \nL 324.083946 231.393906 \nL 324.390147 231.23197 \nL 324.696348 231.345325 \nL 325.002549 231.178762 \nL 325.30875 231.171822 \nL 325.921151 231.488754 \nL 326.227352 231.533864 \nL 326.533553 230.931232 \nL 326.839754 231.192643 \nL 327.452155 231.031863 \nL 328.064557 231.131338 \nL 328.370758 231.105891 \nL 328.676959 231.230813 \nL 328.98316 231.190329 \nL 329.28936 231.48991 \nL 330.207963 231.131338 \nL 330.514164 231.279394 \nL 331.126566 231.230813 \nL 331.432766 231.102421 \nL 332.045168 231.374242 \nL 332.351369 231.250477 \nL 332.65757 231.411256 \nL 333.269971 230.992536 \nL 333.882373 231.373085 \nL 334.494775 231.363832 \nL 334.800976 231.163725 \nL 335.107176 231.260887 \nL 336.025779 231.241223 \nL 337.250582 231.380025 \nL 337.556783 231.265514 \nL 337.862984 231.330288 \nL 338.781587 231.213463 \nL 339.393988 231.376555 \nL 340.00639 231.351108 \nL 340.312591 231.412413 \nL 340.618792 231.27361 \nL 340.924992 231.344168 \nL 341.843595 231.142905 \nL 342.149796 231.498007 \nL 343.068398 231.24932 \nL 343.374599 231.374242 \nL 344.905603 231.309468 \nL 345.211804 231.598639 \nL 345.518005 231.192643 \nL 345.824206 231.412413 \nL 346.130407 231.302528 \nL 347.049009 231.523454 \nL 347.35521 231.406629 \nL 347.661411 231.480657 \nL 347.967612 231.279394 \nL 348.273813 231.578975 \nL 348.580013 231.495694 \nL 348.886214 231.212306 \nL 349.192415 231.653003 \nL 349.498616 231.152159 \nL 349.804817 231.698114 \nL 350.111018 231.396219 \nL 350.417219 231.627556 \nL 350.723419 231.621772 \nL 351.02962 231.390436 \nL 352.560624 231.498007 \nL 352.866825 231.179919 \nL 353.173026 231.0469 \nL 353.785428 231.034177 \nL 354.091629 231.361518 \nL 354.397829 231.071191 \nL 355.010231 231.090854 \nL 355.316432 231.532708 \nL 355.622633 231.288647 \nL 356.235035 231.122085 \nL 356.541235 231.303684 \nL 357.153637 231.24585 \nL 357.459838 231.292117 \nL 358.07224 231.190329 \nL 358.37844 231.21462 \nL 358.684641 231.439016 \nL 359.603244 231.229656 \nL 359.909445 231.546588 \nL 361.134248 231.344168 \nL 361.440449 231.614832 \nL 361.74665 231.371929 \nL 362.052851 231.296744 \nL 362.359051 231.392749 \nL 362.665252 231.332601 \nL 362.971453 231.398532 \nL 363.277654 231.186859 \nL 363.890056 231.4448 \nL 364.196256 231.374242 \nL 364.502457 231.48991 \nL 365.42106 231.398532 \nL 366.952064 231.366145 \nL 367.258265 231.324505 \nL 367.564466 231.567408 \nL 367.870666 231.327975 \nL 368.176867 231.522298 \nL 368.483068 231.343012 \nL 368.483068 231.343012 \n\" style=\"fill:none;stroke:#e24a33;stroke-linecap:square;stroke-opacity:0.7;stroke-width:2;\"/>\n   </g>\n   <g id=\"line2d_28\">\n    <path clip-path=\"url(#pcb478e4ef0)\" d=\"M 64.119432 137.323082 \nL 64.425633 168.43095 \nL 65.038034 189.366937 \nL 65.344235 194.004084 \nL 65.650436 193.816701 \nL 65.956637 196.361407 \nL 66.262838 197.87782 \nL 66.569039 201.524846 \nL 66.875239 197.714728 \nL 67.18144 201.753869 \nL 67.487641 202.757871 \nL 67.793842 205.654209 \nL 68.100043 205.427499 \nL 68.406244 205.50731 \nL 68.712444 202.002557 \nL 69.018645 208.078619 \nL 69.324846 204.778599 \nL 69.937248 208.191974 \nL 70.243449 208.589874 \nL 70.549649 208.608381 \nL 70.85585 209.425 \nL 71.162051 209.541825 \nL 71.468252 207.283977 \nL 71.774453 210.072743 \nL 72.080654 209.699134 \nL 72.386855 210.236992 \nL 72.693055 210.511127 \nL 72.999256 208.879045 \nL 73.305457 212.223019 \nL 73.611658 211.699041 \nL 73.917859 212.05183 \nL 74.22406 212.06224 \nL 74.53026 213.13333 \nL 74.836461 212.752781 \nL 75.142662 208.13067 \nL 75.448863 214.502844 \nL 75.755064 211.430691 \nL 76.061265 212.699573 \nL 76.367465 213.011878 \nL 76.673666 211.430691 \nL 77.286068 214.753845 \nL 77.592269 214.532918 \nL 77.89847 213.967299 \nL 78.204671 215.350694 \nL 78.510871 213.056989 \nL 79.123273 215.025666 \nL 80.041876 212.737744 \nL 80.348076 215.000218 \nL 80.654277 212.123545 \nL 80.960478 214.466987 \nL 81.266679 215.195698 \nL 81.57288 214.950481 \nL 81.879081 216.432194 \nL 82.185281 216.363949 \nL 82.491482 211.037418 \nL 82.797683 215.192228 \nL 83.103884 216.407903 \nL 83.410085 215.920939 \nL 83.716286 215.709266 \nL 84.022487 214.903057 \nL 84.328687 217.361011 \nL 84.634888 215.483713 \nL 84.941089 215.727773 \nL 85.24729 215.357634 \nL 85.553491 216.82084 \nL 85.859692 214.840596 \nL 86.165892 215.541547 \nL 86.472093 215.333344 \nL 86.778294 215.802957 \nL 87.084495 216.011161 \nL 87.390696 216.516632 \nL 87.696897 215.573934 \nL 88.003097 216.333876 \nL 88.309298 217.71033 \nL 88.615499 215.123984 \nL 88.9217 217.369108 \nL 89.227901 217.053333 \nL 89.534102 219.21749 \nL 89.840302 217.283513 \nL 90.146503 217.975211 \nL 90.452704 219.45461 \nL 90.758905 215.268569 \nL 91.065106 217.402652 \nL 91.371307 216.924941 \nL 91.677508 217.953234 \nL 91.983708 215.606321 \nL 92.289909 216.85554 \nL 92.59611 216.329249 \nL 92.902311 217.585408 \nL 93.208512 216.331562 \nL 93.514713 214.332812 \nL 93.820913 219.562182 \nL 94.127114 216.542079 \nL 94.433315 215.74628 \nL 94.739516 216.466894 \nL 95.045717 217.927787 \nL 95.351918 217.468583 \nL 95.658118 217.26038 \nL 95.964319 218.806867 \nL 96.27052 216.198543 \nL 96.576721 218.616014 \nL 96.882922 216.527042 \nL 97.189123 218.78142 \nL 97.495324 215.059209 \nL 97.801524 218.635677 \nL 98.720127 219.174692 \nL 99.026328 217.119264 \nL 99.332529 219.554085 \nL 99.638729 218.406654 \nL 99.94493 218.906342 \nL 100.251131 216.513162 \nL 100.557332 217.94051 \nL 100.863533 216.616107 \nL 101.169734 217.570371 \nL 101.475934 220.507193 \nL 101.782135 215.326403 \nL 102.088336 215.792547 \nL 102.394537 218.194981 \nL 102.700738 217.280043 \nL 103.006939 215.641022 \nL 103.31314 217.549551 \nL 103.61934 218.363857 \nL 103.925541 217.193292 \nL 104.231742 218.658811 \nL 104.537943 218.538516 \nL 104.844144 220.264289 \nL 105.150345 218.327999 \nL 105.456545 218.846194 \nL 105.762746 219.620016 \nL 106.068947 218.314119 \nL 106.375148 217.799395 \nL 106.681349 218.902871 \nL 106.98755 216.169626 \nL 107.29375 217.454703 \nL 107.599951 219.70214 \nL 107.906152 220.679539 \nL 108.518554 217.776261 \nL 108.824755 217.119264 \nL 109.130956 219.844413 \nL 109.743357 218.244718 \nL 110.049558 219.013913 \nL 110.355759 214.720301 \nL 110.66196 217.498657 \nL 111.274361 219.327375 \nL 111.580562 214.547955 \nL 111.886763 219.47543 \nL 112.192964 218.322216 \nL 112.499165 218.233151 \nL 112.805366 218.662281 \nL 113.111566 218.841567 \nL 113.417767 219.676693 \nL 113.723968 219.108761 \nL 114.030169 219.65009 \nL 114.33637 220.75935 \nL 114.642571 216.270258 \nL 114.948771 218.311806 \nL 115.254972 218.752502 \nL 115.561173 218.869328 \nL 115.867374 221.826969 \nL 116.173575 219.603822 \nL 116.479776 220.209925 \nL 116.785977 218.789516 \nL 117.092177 218.849664 \nL 117.398378 217.979837 \nL 117.704579 220.451672 \nL 118.01078 220.460925 \nL 118.316981 220.043362 \nL 118.623182 219.960081 \nL 118.929382 217.733464 \nL 119.235583 218.227368 \nL 119.541784 219.646619 \nL 119.847985 219.636209 \nL 120.154186 218.456391 \nL 120.460387 218.329156 \nL 120.766587 217.770477 \nL 121.072788 219.707924 \nL 121.378989 217.883833 \nL 121.68519 221.039267 \nL 121.991391 220.497939 \nL 122.297592 220.918972 \nL 122.603793 219.397932 \nL 122.909993 220.473649 \nL 123.216194 218.270165 \nL 123.522395 217.768164 \nL 123.828596 218.058492 \nL 124.134797 219.200139 \nL 124.440998 219.563338 \nL 124.747198 217.889616 \nL 125.053399 220.422755 \nL 125.3596 220.571967 \nL 125.665801 217.435039 \nL 125.972002 219.200139 \nL 126.278203 220.083846 \nL 126.584403 216.298018 \nL 126.890604 215.380768 \nL 127.196805 218.616014 \nL 127.503006 218.646088 \nL 127.809207 218.391617 \nL 128.115408 218.901715 \nL 128.421609 218.627581 \nL 128.727809 219.363232 \nL 129.03401 220.798677 \nL 129.340211 221.375863 \nL 129.952613 217.231463 \nL 130.258814 220.701516 \nL 130.565014 219.178162 \nL 130.871215 219.311181 \nL 131.177416 218.079312 \nL 131.483617 219.88027 \nL 131.789818 219.955454 \nL 132.096019 219.048614 \nL 132.402219 216.027354 \nL 132.70842 221.493844 \nL 133.014621 220.255035 \nL 133.320822 213.823871 \nL 133.627023 218.029575 \nL 133.933224 218.252815 \nL 134.239425 218.034202 \nL 134.545625 219.150402 \nL 134.851826 219.589942 \nL 135.158027 219.484684 \nL 135.464228 219.840942 \nL 135.770429 218.398557 \nL 136.07663 218.721272 \nL 136.38283 217.542611 \nL 136.689031 218.189197 \nL 136.995232 221.250941 \nL 137.301433 216.631143 \nL 137.607634 217.314744 \nL 137.913835 217.29855 \nL 138.220035 216.979305 \nL 138.526236 218.281732 \nL 138.832437 218.946825 \nL 139.138638 218.722429 \nL 139.444839 219.371329 \nL 139.75104 220.368391 \nL 140.05724 220.320966 \nL 140.363441 218.848507 \nL 140.669642 218.329156 \nL 141.282044 218.773323 \nL 141.894446 218.884364 \nL 142.200646 218.427474 \nL 142.813048 220.775543 \nL 143.119249 218.18457 \nL 143.42545 219.621172 \nL 143.731651 220.115077 \nL 144.037851 217.034826 \nL 144.344052 219.636209 \nL 144.650253 219.414126 \nL 144.956454 216.491185 \nL 145.262655 220.069966 \nL 145.568856 214.205576 \nL 145.875056 218.705078 \nL 146.181257 220.31981 \nL 146.487458 217.777418 \nL 146.793659 218.57553 \nL 147.09986 217.797081 \nL 147.406061 218.693512 \nL 147.712262 220.006348 \nL 148.018462 220.411188 \nL 148.630864 219.107605 \nL 148.937065 219.905717 \nL 149.243266 218.729369 \nL 149.549467 221.522761 \nL 149.855667 218.316432 \nL 150.161868 219.120328 \nL 150.468069 218.622954 \nL 150.77427 219.279951 \nL 151.080471 218.563963 \nL 151.386672 219.759975 \nL 151.692872 220.067653 \nL 151.999073 219.225586 \nL 152.305274 220.345257 \nL 152.611475 219.666283 \nL 152.917676 221.054304 \nL 153.223877 221.002254 \nL 153.530078 219.924224 \nL 153.836278 216.63924 \nL 154.142479 219.365545 \nL 154.44868 217.562274 \nL 154.754881 218.087409 \nL 155.061082 219.814339 \nL 155.367283 219.200139 \nL 155.673483 215.694229 \nL 155.979684 221.098258 \nL 156.285885 218.61023 \nL 156.592086 220.630958 \nL 156.898287 219.235997 \nL 157.204488 220.772073 \nL 157.510688 217.219896 \nL 157.816889 221.270604 \nL 158.12309 219.242937 \nL 158.429291 220.016758 \nL 158.735492 218.824217 \nL 159.041693 219.821279 \nL 159.347893 220.042206 \nL 159.654094 219.03242 \nL 159.960295 218.686571 \nL 160.266496 220.059556 \nL 160.878898 217.238403 \nL 161.185099 217.369108 \nL 161.491299 216.812743 \nL 161.7975 217.583095 \nL 162.103701 218.939885 \nL 162.409902 218.433258 \nL 162.716103 220.751253 \nL 163.022304 221.264821 \nL 163.328504 219.685947 \nL 163.634705 220.268916 \nL 163.940906 219.924224 \nL 164.247107 216.368576 \nL 164.553308 219.27301 \nL 164.859509 219.950827 \nL 165.165709 218.007598 \nL 165.47191 218.849664 \nL 165.778111 220.415815 \nL 166.084312 220.34063 \nL 166.390513 221.282171 \nL 166.696714 220.883115 \nL 167.002915 220.192574 \nL 167.309115 220.074593 \nL 167.615316 219.696357 \nL 167.921517 218.415907 \nL 168.227718 219.289204 \nL 168.533919 218.15334 \nL 169.14632 221.166503 \nL 169.452521 219.718334 \nL 169.758722 220.922442 \nL 170.064923 218.458705 \nL 170.371124 218.212331 \nL 170.983525 220.426225 \nL 171.289726 219.561025 \nL 171.595927 222.025919 \nL 171.902128 220.704986 \nL 172.208329 218.722429 \nL 172.51453 218.296769 \nL 172.820731 218.458705 \nL 173.126931 221.128332 \nL 173.433132 221.356199 \nL 173.739333 220.699202 \nL 174.045534 219.187416 \nL 174.657936 218.806867 \nL 174.964136 216.704015 \nL 175.270337 217.364481 \nL 175.576538 221.732121 \nL 175.882739 220.895839 \nL 176.18894 219.476587 \nL 176.495141 220.384584 \nL 176.801341 217.099601 \nL 177.107542 219.947357 \nL 177.413743 220.244625 \nL 178.026145 218.594037 \nL 178.332346 220.662188 \nL 178.638547 218.80571 \nL 178.944747 220.360294 \nL 179.250948 220.425068 \nL 179.557149 220.255035 \nL 179.86335 219.075217 \nL 180.169551 219.192043 \nL 180.475752 220.183321 \nL 180.781952 220.300146 \nL 181.088153 217.558804 \nL 181.394354 220.473649 \nL 181.700555 219.400246 \nL 182.006756 219.316964 \nL 182.312957 220.156717 \nL 182.619157 219.91844 \nL 182.925358 219.111075 \nL 183.231559 221.043894 \nL 183.53776 219.661656 \nL 183.843961 218.912125 \nL 184.150162 217.857229 \nL 184.456362 219.074061 \nL 184.762563 218.35576 \nL 185.068764 221.051991 \nL 185.374965 218.396244 \nL 185.987367 220.971023 \nL 186.293568 219.189729 \nL 186.599768 216.455327 \nL 186.905969 219.724117 \nL 187.21217 215.95911 \nL 187.518371 221.390899 \nL 187.824572 221.529702 \nL 188.130773 221.294895 \nL 188.743174 218.391617 \nL 189.049375 221.179226 \nL 189.355576 218.710862 \nL 189.661777 217.883833 \nL 189.967978 220.760507 \nL 190.274178 218.567433 \nL 190.580379 220.170597 \nL 191.192781 219.89762 \nL 191.805183 220.297833 \nL 192.111384 220.339473 \nL 192.417584 220.914346 \nL 192.723785 217.72074 \nL 193.029986 219.045144 \nL 193.336187 219.739154 \nL 193.642388 219.340098 \nL 193.948589 219.584159 \nL 194.254789 221.167659 \nL 194.56099 218.264382 \nL 194.867191 220.588161 \nL 195.173392 220.76282 \nL 195.479593 219.024323 \nL 195.785794 220.866921 \nL 196.091994 219.577218 \nL 196.398195 219.624642 \nL 196.704396 218.560493 \nL 197.010597 215.259316 \nL 197.316798 220.687635 \nL 197.622999 219.371329 \nL 198.2354 219.726431 \nL 198.541601 220.901622 \nL 198.847802 220.266602 \nL 199.154003 219.225586 \nL 199.460204 221.224337 \nL 199.766405 217.742717 \nL 200.072605 219.017383 \nL 200.378806 219.727587 \nL 200.685007 218.637991 \nL 200.991208 220.126643 \nL 201.297409 220.436635 \nL 201.60361 219.756504 \nL 201.90981 220.348727 \nL 202.216011 217.481306 \nL 202.522212 219.105291 \nL 202.828413 218.761756 \nL 203.134614 220.665658 \nL 203.440815 220.447045 \nL 203.747016 219.934634 \nL 204.053216 221.688167 \nL 204.359417 219.92191 \nL 204.665618 221.304148 \nL 204.971819 220.36145 \nL 205.27802 220.206455 \nL 205.584221 220.480589 \nL 205.890421 219.504347 \nL 206.196622 220.664502 \nL 206.502823 218.917908 \nL 206.809024 219.172379 \nL 207.421426 220.973336 \nL 207.727626 220.104666 \nL 208.033827 218.34882 \nL 208.340028 219.71255 \nL 208.646229 219.370172 \nL 208.95243 219.855979 \nL 209.258631 221.8582 \nL 209.564831 220.039892 \nL 209.871032 220.038735 \nL 210.177233 218.647244 \nL 210.483434 219.673223 \nL 210.789635 221.713614 \nL 211.095836 217.974054 \nL 211.402037 219.620016 \nL 211.708237 219.963551 \nL 212.014438 220.56387 \nL 212.320639 219.102978 \nL 212.62684 218.223898 \nL 212.933041 216.923785 \nL 213.239242 219.999408 \nL 213.545442 217.73115 \nL 213.851643 218.030731 \nL 214.157844 221.051991 \nL 214.464045 219.131895 \nL 214.770246 220.332533 \nL 215.076447 219.732214 \nL 215.382647 220.751253 \nL 215.688848 217.756597 \nL 215.995049 221.172286 \nL 216.30125 219.700984 \nL 216.607451 219.602665 \nL 216.913652 220.132427 \nL 217.219853 220.119703 \nL 217.526053 218.316432 \nL 217.832254 220.695732 \nL 218.138455 218.579 \nL 218.444656 218.048082 \nL 218.750857 220.820654 \nL 219.057058 215.876985 \nL 219.363258 220.359137 \nL 219.669459 219.865233 \nL 219.97566 221.693951 \nL 220.588062 219.48931 \nL 220.894263 219.195513 \nL 221.200463 220.53958 \nL 221.506664 217.655966 \nL 221.812865 219.000033 \nL 222.119066 219.387522 \nL 222.425267 221.165346 \nL 222.731468 218.935259 \nL 223.037669 218.729369 \nL 223.343869 220.249252 \nL 223.956271 221.289111 \nL 224.262472 220.647151 \nL 224.874874 220.184478 \nL 225.181074 217.859542 \nL 225.487275 220.176381 \nL 225.793476 220.605511 \nL 226.099677 219.072904 \nL 226.405878 220.714239 \nL 226.712079 221.557462 \nL 227.018279 218.231995 \nL 227.32448 218.13946 \nL 227.630681 219.587629 \nL 227.936882 220.418128 \nL 228.243083 219.239467 \nL 228.549284 219.91497 \nL 228.855484 219.551771 \nL 229.161685 221.109825 \nL 229.774087 218.930632 \nL 230.080288 221.518135 \nL 230.386489 222.988281 \nL 230.69269 221.661564 \nL 230.99889 218.671535 \nL 231.305091 219.166595 \nL 231.611292 218.717802 \nL 231.917493 219.198983 \nL 232.223694 221.253254 \nL 232.529895 217.889616 \nL 232.836095 220.257349 \nL 233.142296 218.360386 \nL 233.448497 221.21277 \nL 233.754698 221.752942 \nL 234.060899 219.69867 \nL 234.3671 220.398464 \nL 234.6733 219.824749 \nL 234.979501 219.532108 \nL 235.285702 221.056618 \nL 235.591903 217.512537 \nL 235.898104 220.474805 \nL 236.204305 221.275231 \nL 236.816706 218.754816 \nL 237.429108 220.701516 \nL 237.735309 220.692262 \nL 238.04151 219.968178 \nL 238.347711 221.116765 \nL 238.653911 221.259037 \nL 238.960112 215.813368 \nL 239.266313 220.384584 \nL 239.572514 219.547145 \nL 240.184916 219.02548 \nL 240.491116 218.12558 \nL 240.797317 219.536734 \nL 241.103518 219.393306 \nL 241.409719 220.593944 \nL 241.71592 219.986685 \nL 242.022121 218.408967 \nL 242.328322 219.373642 \nL 242.634522 219.438416 \nL 242.940723 219.88374 \nL 243.246924 217.847975 \nL 243.553125 219.43726 \nL 243.859326 219.44767 \nL 244.165527 220.083846 \nL 244.471727 217.374891 \nL 245.084129 220.400778 \nL 245.39033 218.182257 \nL 245.696531 218.557023 \nL 246.002732 220.331377 \nL 246.308932 220.384584 \nL 246.615133 221.172286 \nL 246.921334 218.547769 \nL 247.227535 221.137586 \nL 247.533736 220.484059 \nL 247.839937 220.463239 \nL 248.146138 219.589942 \nL 248.452338 220.031795 \nL 248.758539 218.983839 \nL 249.06474 219.692887 \nL 249.370941 218.910968 \nL 249.677142 219.249877 \nL 249.983343 217.315901 \nL 250.289543 220.506036 \nL 250.595744 218.186884 \nL 250.901945 221.754098 \nL 251.208146 217.51832 \nL 251.514347 220.135897 \nL 252.126748 217.378361 \nL 252.432949 217.216426 \nL 252.73915 219.174692 \nL 253.045351 219.707924 \nL 253.351552 220.596257 \nL 253.657753 220.639055 \nL 253.963953 219.01507 \nL 254.576355 219.188572 \nL 254.882556 219.623486 \nL 255.188757 221.535485 \nL 255.494958 221.379333 \nL 255.801159 219.861763 \nL 256.107359 221.034641 \nL 256.719761 220.618234 \nL 257.025962 220.809087 \nL 257.332163 220.381114 \nL 257.944564 221.079751 \nL 258.250765 220.964083 \nL 258.556966 218.695825 \nL 258.863167 219.821279 \nL 259.169368 217.458173 \nL 259.475569 220.36492 \nL 259.781769 220.612451 \nL 260.700372 222.186698 \nL 261.006573 218.173004 \nL 261.312774 219.661656 \nL 261.618975 219.972804 \nL 262.231376 222.691013 \nL 262.537577 219.212863 \nL 262.843778 219.041674 \nL 263.149979 218.045768 \nL 263.45618 221.271761 \nL 263.76238 220.841474 \nL 264.068581 217.971741 \nL 264.374782 219.077531 \nL 264.680983 221.591006 \nL 264.987184 219.476587 \nL 265.293385 220.445888 \nL 265.599585 220.634428 \nL 265.905786 222.11267 \nL 266.211987 220.654092 \nL 266.518188 220.804461 \nL 266.824389 219.835159 \nL 267.13059 218.098976 \nL 267.742991 220.369547 \nL 268.049192 220.587004 \nL 268.355393 218.680788 \nL 268.661594 221.070498 \nL 268.967795 221.781859 \nL 269.273996 214.617356 \nL 269.580196 221.578282 \nL 269.886397 220.608981 \nL 270.192598 220.792894 \nL 270.805 219.892993 \nL 271.111201 219.031263 \nL 271.417401 218.827687 \nL 271.723602 220.436635 \nL 272.029803 220.215708 \nL 272.336004 219.315808 \nL 272.642205 221.169973 \nL 272.948406 213.180754 \nL 273.254607 218.950296 \nL 273.560807 221.795739 \nL 273.867008 219.179319 \nL 274.173209 217.590035 \nL 274.47941 221.961145 \nL 274.785611 216.890241 \nL 275.091812 221.702048 \nL 275.398012 219.075217 \nL 275.704213 222.782391 \nL 276.010414 219.991311 \nL 276.316615 219.734527 \nL 276.622816 221.159563 \nL 276.929017 219.973961 \nL 277.235217 220.066496 \nL 277.541418 218.053865 \nL 277.847619 220.282796 \nL 278.15382 221.545895 \nL 278.460021 218.941042 \nL 278.766222 218.293299 \nL 279.072422 220.176381 \nL 279.378623 220.724649 \nL 279.684824 218.577843 \nL 279.991025 219.68826 \nL 280.297226 222.414565 \nL 280.603427 220.050302 \nL 280.909628 220.97565 \nL 281.215828 219.098351 \nL 281.522029 218.882051 \nL 281.82823 220.559243 \nL 282.134431 219.700984 \nL 282.440632 222.147371 \nL 282.746833 220.000565 \nL 283.053033 221.262508 \nL 283.359234 221.477651 \nL 283.665435 219.933477 \nL 283.971636 220.77323 \nL 284.277837 218.157967 \nL 284.584038 219.720647 \nL 284.890238 219.364388 \nL 285.196439 220.509506 \nL 285.808841 221.477651 \nL 286.115042 217.282357 \nL 286.727444 220.376487 \nL 287.033644 221.128332 \nL 287.339845 219.820122 \nL 287.646046 220.54999 \nL 287.952247 216.668157 \nL 288.258448 217.385302 \nL 288.564649 217.798238 \nL 288.870849 220.893525 \nL 289.17705 219.564495 \nL 289.483251 221.935698 \nL 289.789452 219.155029 \nL 290.095653 220.854198 \nL 290.401854 220.667972 \nL 290.708054 221.324968 \nL 291.014255 221.282171 \nL 291.320456 221.461457 \nL 291.626657 219.351665 \nL 291.932858 218.7953 \nL 292.239059 221.939168 \nL 292.54526 221.056618 \nL 292.85146 222.291957 \nL 293.157661 217.758911 \nL 293.463862 217.953234 \nL 293.770063 221.944951 \nL 294.076264 220.273542 \nL 294.382465 220.519916 \nL 294.688665 219.559868 \nL 294.994866 220.241155 \nL 295.301067 217.286983 \nL 295.913469 220.460925 \nL 296.21967 218.766383 \nL 296.52587 221.382803 \nL 296.832071 219.233683 \nL 297.138272 218.923692 \nL 297.444473 219.639679 \nL 297.750674 218.470272 \nL 298.056875 221.468397 \nL 298.669276 217.74503 \nL 298.975477 217.602758 \nL 299.281678 218.368483 \nL 299.587879 220.10004 \nL 299.89408 220.471335 \nL 300.200281 220.221492 \nL 300.506481 219.292674 \nL 300.812682 220.607824 \nL 301.425084 218.974586 \nL 301.731285 220.55693 \nL 302.037486 219.720647 \nL 302.649887 220.221492 \nL 302.956088 218.354603 \nL 303.262289 221.547052 \nL 303.56849 219.092568 \nL 303.874691 218.594037 \nL 304.180891 220.754723 \nL 304.487092 221.62455 \nL 304.793293 219.282264 \nL 305.405695 220.715396 \nL 305.711896 222.224869 \nL 306.018097 221.680071 \nL 306.324297 218.771009 \nL 306.630498 221.911407 \nL 306.936699 217.69298 \nL 307.2429 221.503098 \nL 307.549101 223.100479 \nL 307.855302 218.484152 \nL 308.161502 222.066403 \nL 308.467703 219.499721 \nL 308.773904 221.592163 \nL 309.080105 220.683009 \nL 309.386306 220.150934 \nL 309.692507 220.842631 \nL 309.998707 222.075657 \nL 310.304908 220.035265 \nL 310.611109 220.693419 \nL 310.91731 218.007598 \nL 311.223511 221.934541 \nL 311.529712 218.001814 \nL 311.835913 218.426317 \nL 312.142113 220.760507 \nL 312.448314 221.379333 \nL 312.754515 219.104135 \nL 313.366917 220.394994 \nL 313.673118 218.546613 \nL 313.979318 219.624642 \nL 314.285519 221.721711 \nL 314.59172 220.552303 \nL 314.897921 219.950827 \nL 315.204122 220.179851 \nL 315.510323 219.988998 \nL 315.816523 217.922003 \nL 316.122724 219.859449 \nL 316.428925 222.537174 \nL 316.735126 218.958392 \nL 317.041327 218.899401 \nL 317.347528 219.180476 \nL 317.653729 220.207611 \nL 318.26613 221.65925 \nL 318.572331 221.730965 \nL 319.184733 221.049678 \nL 319.490934 220.415815 \nL 319.797134 221.985435 \nL 320.103335 219.466177 \nL 320.715737 221.552835 \nL 321.021938 219.706767 \nL 321.328139 221.01729 \nL 321.634339 221.786486 \nL 321.94054 221.448734 \nL 322.246741 222.53139 \nL 322.552942 221.048521 \nL 322.859143 218.520009 \nL 323.165344 221.324968 \nL 323.471544 218.020321 \nL 323.777745 220.98259 \nL 324.083946 219.23484 \nL 324.390147 220.005192 \nL 324.696348 218.772166 \nL 325.002549 216.835877 \nL 325.61495 221.978495 \nL 325.921151 222.213302 \nL 326.227352 220.171754 \nL 326.533553 220.608981 \nL 326.839754 218.646088 \nL 327.145955 218.984996 \nL 327.452155 219.150402 \nL 327.758356 220.818341 \nL 328.370758 217.812118 \nL 328.676959 221.157249 \nL 328.98316 220.624018 \nL 329.28936 221.396683 \nL 329.595561 220.012132 \nL 330.207963 221.405936 \nL 330.514164 219.939261 \nL 331.126566 219.6605 \nL 331.432766 220.585847 \nL 331.738967 217.169002 \nL 332.351369 221.409406 \nL 332.65757 220.111607 \nL 332.963771 217.313587 \nL 333.269971 221.714771 \nL 333.882373 219.128425 \nL 334.188574 219.877956 \nL 334.494775 220.090786 \nL 334.800976 220.947889 \nL 335.107176 222.194795 \nL 335.413377 219.340098 \nL 336.025779 221.45683 \nL 336.33198 220.428538 \nL 336.638181 218.413594 \nL 336.944382 222.637805 \nL 337.250582 218.302552 \nL 337.556783 220.75241 \nL 337.862984 221.542425 \nL 338.169185 221.496158 \nL 338.475386 219.636209 \nL 338.781587 219.935791 \nL 339.087787 218.301396 \nL 339.393988 220.976806 \nL 339.700189 219.294987 \nL 340.00639 222.848322 \nL 340.312591 219.973961 \nL 340.618792 220.280482 \nL 340.924992 221.863983 \nL 341.231193 221.718241 \nL 341.537394 220.644838 \nL 341.843595 220.038735 \nL 342.149796 218.367327 \nL 342.455997 221.420973 \nL 342.762198 220.236528 \nL 343.068398 220.590474 \nL 343.374599 220.718866 \nL 343.6808 220.709612 \nL 344.599403 217.106541 \nL 344.905603 220.920129 \nL 345.211804 219.459237 \nL 345.518005 220.174068 \nL 345.824206 217.049863 \nL 346.130407 220.098883 \nL 346.436608 220.140524 \nL 346.742808 222.552211 \nL 347.049009 218.516539 \nL 347.661411 221.272918 \nL 347.967612 221.829283 \nL 348.273813 218.639147 \nL 348.580013 221.771449 \nL 348.886214 221.371236 \nL 349.192415 222.374081 \nL 349.498616 220.192574 \nL 349.804817 220.160187 \nL 350.111018 220.905092 \nL 350.417219 219.563338 \nL 350.723419 219.462707 \nL 351.02962 220.045676 \nL 351.335821 220.303616 \nL 351.642022 220.855355 \nL 351.948223 220.487529 \nL 352.254424 219.800458 \nL 352.560624 220.154404 \nL 352.866825 219.533264 \nL 353.173026 219.993625 \nL 353.479227 216.897181 \nL 353.785428 220.854198 \nL 354.397829 218.656498 \nL 354.70403 218.673848 \nL 355.010231 221.056618 \nL 355.316432 220.303616 \nL 355.622633 221.759882 \nL 355.928834 217.965957 \nL 356.235035 221.093632 \nL 356.541235 219.208236 \nL 356.847436 220.667972 \nL 357.153637 218.929475 \nL 357.459838 220.751253 \nL 357.766039 218.290985 \nL 358.07224 220.98606 \nL 358.37844 219.549458 \nL 358.684641 220.314026 \nL 358.990842 219.853666 \nL 359.297043 220.386897 \nL 359.603244 218.828844 \nL 359.909445 220.811401 \nL 360.215645 221.575969 \nL 360.521846 217.583095 \nL 360.828047 219.919597 \nL 361.134248 219.809712 \nL 361.440449 219.24525 \nL 362.359051 220.32675 \nL 362.665252 219.950827 \nL 362.971453 220.781327 \nL 363.277654 218.600977 \nL 363.583855 218.692355 \nL 363.890056 221.510038 \nL 364.196256 219.694044 \nL 364.502457 218.987309 \nL 364.808658 219.144618 \nL 365.114859 221.104042 \nL 365.42106 219.6952 \nL 365.727261 221.048521 \nL 366.033461 217.701076 \nL 366.339662 220.356824 \nL 366.952064 217.08225 \nL 367.258265 221.269448 \nL 367.564466 220.876175 \nL 367.870666 221.117922 \nL 368.483068 219.577218 \nL 368.483068 219.577218 \n\" style=\"fill:none;stroke:#348abd;stroke-linecap:square;stroke-opacity:0.7;stroke-width:2;\"/>\n   </g>\n   <g id=\"patch_3\">\n    <path d=\"M 48.90125 241.58175 \nL 48.90125 24.14175 \n\" style=\"fill:none;stroke:#ffffff;stroke-linecap:square;stroke-linejoin:miter;\"/>\n   </g>\n   <g id=\"patch_4\">\n    <path d=\"M 383.70125 241.58175 \nL 383.70125 24.14175 \n\" style=\"fill:none;stroke:#ffffff;stroke-linecap:square;stroke-linejoin:miter;\"/>\n   </g>\n   <g id=\"patch_5\">\n    <path d=\"M 48.90125 241.58175 \nL 383.70125 241.58175 \n\" style=\"fill:none;stroke:#ffffff;stroke-linecap:square;stroke-linejoin:miter;\"/>\n   </g>\n   <g id=\"patch_6\">\n    <path d=\"M 48.90125 24.14175 \nL 383.70125 24.14175 \n\" style=\"fill:none;stroke:#ffffff;stroke-linecap:square;stroke-linejoin:miter;\"/>\n   </g>\n   <g id=\"text_16\">\n    <!-- VAE Font Training -->\n    <defs>\n     <path d=\"M 28.609375 0 \nL 0.78125 72.90625 \nL 11.078125 72.90625 \nL 34.1875 11.53125 \nL 57.328125 72.90625 \nL 67.578125 72.90625 \nL 39.796875 0 \nz\n\" id=\"DejaVuSans-86\"/>\n     <path d=\"M 34.1875 63.1875 \nL 20.796875 26.90625 \nL 47.609375 26.90625 \nz\nM 28.609375 72.90625 \nL 39.796875 72.90625 \nL 67.578125 0 \nL 57.328125 0 \nL 50.6875 18.703125 \nL 17.828125 18.703125 \nL 11.1875 0 \nL 0.78125 0 \nz\n\" id=\"DejaVuSans-65\"/>\n     <path id=\"DejaVuSans-32\"/>\n     <path d=\"M 9.8125 72.90625 \nL 51.703125 72.90625 \nL 51.703125 64.59375 \nL 19.671875 64.59375 \nL 19.671875 43.109375 \nL 48.578125 43.109375 \nL 48.578125 34.8125 \nL 19.671875 34.8125 \nL 19.671875 0 \nL 9.8125 0 \nz\n\" id=\"DejaVuSans-70\"/>\n     <path d=\"M 54.890625 33.015625 \nL 54.890625 0 \nL 45.90625 0 \nL 45.90625 32.71875 \nQ 45.90625 40.484375 42.875 44.328125 \nQ 39.84375 48.1875 33.796875 48.1875 \nQ 26.515625 48.1875 22.3125 43.546875 \nQ 18.109375 38.921875 18.109375 30.90625 \nL 18.109375 0 \nL 9.078125 0 \nL 9.078125 54.6875 \nL 18.109375 54.6875 \nL 18.109375 46.1875 \nQ 21.34375 51.125 25.703125 53.5625 \nQ 30.078125 56 35.796875 56 \nQ 45.21875 56 50.046875 50.171875 \nQ 54.890625 44.34375 54.890625 33.015625 \nz\n\" id=\"DejaVuSans-110\"/>\n     <path d=\"M 18.3125 70.21875 \nL 18.3125 54.6875 \nL 36.8125 54.6875 \nL 36.8125 47.703125 \nL 18.3125 47.703125 \nL 18.3125 18.015625 \nQ 18.3125 11.328125 20.140625 9.421875 \nQ 21.96875 7.515625 27.59375 7.515625 \nL 36.8125 7.515625 \nL 36.8125 0 \nL 27.59375 0 \nQ 17.1875 0 13.234375 3.875 \nQ 9.28125 7.765625 9.28125 18.015625 \nL 9.28125 47.703125 \nL 2.6875 47.703125 \nL 2.6875 54.6875 \nL 9.28125 54.6875 \nL 9.28125 70.21875 \nz\n\" id=\"DejaVuSans-116\"/>\n     <path d=\"M -0.296875 72.90625 \nL 61.375 72.90625 \nL 61.375 64.59375 \nL 35.5 64.59375 \nL 35.5 0 \nL 25.59375 0 \nL 25.59375 64.59375 \nL -0.296875 64.59375 \nz\n\" id=\"DejaVuSans-84\"/>\n     <path d=\"M 41.109375 46.296875 \nQ 39.59375 47.171875 37.8125 47.578125 \nQ 36.03125 48 33.890625 48 \nQ 26.265625 48 22.1875 43.046875 \nQ 18.109375 38.09375 18.109375 28.8125 \nL 18.109375 0 \nL 9.078125 0 \nL 9.078125 54.6875 \nL 18.109375 54.6875 \nL 18.109375 46.1875 \nQ 20.953125 51.171875 25.484375 53.578125 \nQ 30.03125 56 36.53125 56 \nQ 37.453125 56 38.578125 55.875 \nQ 39.703125 55.765625 41.0625 55.515625 \nz\n\" id=\"DejaVuSans-114\"/>\n     <path d=\"M 34.28125 27.484375 \nQ 23.390625 27.484375 19.1875 25 \nQ 14.984375 22.515625 14.984375 16.5 \nQ 14.984375 11.71875 18.140625 8.90625 \nQ 21.296875 6.109375 26.703125 6.109375 \nQ 34.1875 6.109375 38.703125 11.40625 \nQ 43.21875 16.703125 43.21875 25.484375 \nL 43.21875 27.484375 \nz\nM 52.203125 31.203125 \nL 52.203125 0 \nL 43.21875 0 \nL 43.21875 8.296875 \nQ 40.140625 3.328125 35.546875 0.953125 \nQ 30.953125 -1.421875 24.3125 -1.421875 \nQ 15.921875 -1.421875 10.953125 3.296875 \nQ 6 8.015625 6 15.921875 \nQ 6 25.140625 12.171875 29.828125 \nQ 18.359375 34.515625 30.609375 34.515625 \nL 43.21875 34.515625 \nL 43.21875 35.40625 \nQ 43.21875 41.609375 39.140625 45 \nQ 35.0625 48.390625 27.6875 48.390625 \nQ 23 48.390625 18.546875 47.265625 \nQ 14.109375 46.140625 10.015625 43.890625 \nL 10.015625 52.203125 \nQ 14.9375 54.109375 19.578125 55.046875 \nQ 24.21875 56 28.609375 56 \nQ 40.484375 56 46.34375 49.84375 \nQ 52.203125 43.703125 52.203125 31.203125 \nz\n\" id=\"DejaVuSans-97\"/>\n     <path d=\"M 9.421875 54.6875 \nL 18.40625 54.6875 \nL 18.40625 0 \nL 9.421875 0 \nz\nM 9.421875 75.984375 \nL 18.40625 75.984375 \nL 18.40625 64.59375 \nL 9.421875 64.59375 \nz\n\" id=\"DejaVuSans-105\"/>\n     <path d=\"M 45.40625 27.984375 \nQ 45.40625 37.75 41.375 43.109375 \nQ 37.359375 48.484375 30.078125 48.484375 \nQ 22.859375 48.484375 18.828125 43.109375 \nQ 14.796875 37.75 14.796875 27.984375 \nQ 14.796875 18.265625 18.828125 12.890625 \nQ 22.859375 7.515625 30.078125 7.515625 \nQ 37.359375 7.515625 41.375 12.890625 \nQ 45.40625 18.265625 45.40625 27.984375 \nz\nM 54.390625 6.78125 \nQ 54.390625 -7.171875 48.1875 -13.984375 \nQ 42 -20.796875 29.203125 -20.796875 \nQ 24.46875 -20.796875 20.265625 -20.09375 \nQ 16.0625 -19.390625 12.109375 -17.921875 \nL 12.109375 -9.1875 \nQ 16.0625 -11.328125 19.921875 -12.34375 \nQ 23.78125 -13.375 27.78125 -13.375 \nQ 36.625 -13.375 41.015625 -8.765625 \nQ 45.40625 -4.15625 45.40625 5.171875 \nL 45.40625 9.625 \nQ 42.625 4.78125 38.28125 2.390625 \nQ 33.9375 0 27.875 0 \nQ 17.828125 0 11.671875 7.65625 \nQ 5.515625 15.328125 5.515625 27.984375 \nQ 5.515625 40.671875 11.671875 48.328125 \nQ 17.828125 56 27.875 56 \nQ 33.9375 56 38.28125 53.609375 \nQ 42.625 51.21875 45.40625 46.390625 \nL 45.40625 54.6875 \nL 54.390625 54.6875 \nz\n\" id=\"DejaVuSans-103\"/>\n    </defs>\n    <g transform=\"translate(151.95125 18.14175)scale(0.144 -0.144)\">\n     <use xlink:href=\"#DejaVuSans-86\"/>\n     <use x=\"68.314453\" xlink:href=\"#DejaVuSans-65\"/>\n     <use x=\"136.722656\" xlink:href=\"#DejaVuSans-69\"/>\n     <use x=\"199.90625\" xlink:href=\"#DejaVuSans-32\"/>\n     <use x=\"231.693359\" xlink:href=\"#DejaVuSans-70\"/>\n     <use x=\"289.166016\" xlink:href=\"#DejaVuSans-111\"/>\n     <use x=\"350.347656\" xlink:href=\"#DejaVuSans-110\"/>\n     <use x=\"413.726562\" xlink:href=\"#DejaVuSans-116\"/>\n     <use x=\"452.935547\" xlink:href=\"#DejaVuSans-32\"/>\n     <use x=\"484.722656\" xlink:href=\"#DejaVuSans-84\"/>\n     <use x=\"545.587891\" xlink:href=\"#DejaVuSans-114\"/>\n     <use x=\"586.701172\" xlink:href=\"#DejaVuSans-97\"/>\n     <use x=\"647.980469\" xlink:href=\"#DejaVuSans-105\"/>\n     <use x=\"675.763672\" xlink:href=\"#DejaVuSans-110\"/>\n     <use x=\"739.142578\" xlink:href=\"#DejaVuSans-105\"/>\n     <use x=\"766.925781\" xlink:href=\"#DejaVuSans-110\"/>\n     <use x=\"830.304688\" xlink:href=\"#DejaVuSans-103\"/>\n    </g>\n   </g>\n   <g id=\"legend_1\">\n    <g id=\"patch_7\">\n     <path d=\"M 269.27 61.498 \nL 376.70125 61.498 \nQ 378.70125 61.498 378.70125 59.498 \nL 378.70125 31.14175 \nQ 378.70125 29.14175 376.70125 29.14175 \nL 269.27 29.14175 \nQ 267.27 29.14175 267.27 31.14175 \nL 267.27 59.498 \nQ 267.27 61.498 269.27 61.498 \nz\n\" style=\"fill:#e5e5e5;opacity:0.8;stroke:#cccccc;stroke-linejoin:miter;stroke-width:0.5;\"/>\n    </g>\n    <g id=\"line2d_29\">\n     <path d=\"M 271.27 37.240187 \nL 291.27 37.240187 \n\" style=\"fill:none;stroke:#e24a33;stroke-linecap:square;stroke-opacity:0.7;stroke-width:2;\"/>\n    </g>\n    <g id=\"line2d_30\"/>\n    <g id=\"text_17\">\n     <!-- Training Loss -->\n     <g transform=\"translate(299.27 40.740187)scale(0.1 -0.1)\">\n      <use xlink:href=\"#DejaVuSans-84\"/>\n      <use x=\"60.865234\" xlink:href=\"#DejaVuSans-114\"/>\n      <use x=\"101.978516\" xlink:href=\"#DejaVuSans-97\"/>\n      <use x=\"163.257812\" xlink:href=\"#DejaVuSans-105\"/>\n      <use x=\"191.041016\" xlink:href=\"#DejaVuSans-110\"/>\n      <use x=\"254.419922\" xlink:href=\"#DejaVuSans-105\"/>\n      <use x=\"282.203125\" xlink:href=\"#DejaVuSans-110\"/>\n      <use x=\"345.582031\" xlink:href=\"#DejaVuSans-103\"/>\n      <use x=\"409.058594\" xlink:href=\"#DejaVuSans-32\"/>\n      <use x=\"440.845703\" xlink:href=\"#DejaVuSans-76\"/>\n      <use x=\"496.542969\" xlink:href=\"#DejaVuSans-111\"/>\n      <use x=\"557.724609\" xlink:href=\"#DejaVuSans-115\"/>\n      <use x=\"609.824219\" xlink:href=\"#DejaVuSans-115\"/>\n     </g>\n    </g>\n    <g id=\"line2d_31\">\n     <path d=\"M 271.27 51.918312 \nL 291.27 51.918312 \n\" style=\"fill:none;stroke:#348abd;stroke-linecap:square;stroke-opacity:0.7;stroke-width:2;\"/>\n    </g>\n    <g id=\"line2d_32\"/>\n    <g id=\"text_18\">\n     <!-- Validation Loss -->\n     <defs>\n      <path d=\"M 9.421875 75.984375 \nL 18.40625 75.984375 \nL 18.40625 0 \nL 9.421875 0 \nz\n\" id=\"DejaVuSans-108\"/>\n      <path d=\"M 45.40625 46.390625 \nL 45.40625 75.984375 \nL 54.390625 75.984375 \nL 54.390625 0 \nL 45.40625 0 \nL 45.40625 8.203125 \nQ 42.578125 3.328125 38.25 0.953125 \nQ 33.9375 -1.421875 27.875 -1.421875 \nQ 17.96875 -1.421875 11.734375 6.484375 \nQ 5.515625 14.40625 5.515625 27.296875 \nQ 5.515625 40.1875 11.734375 48.09375 \nQ 17.96875 56 27.875 56 \nQ 33.9375 56 38.25 53.625 \nQ 42.578125 51.265625 45.40625 46.390625 \nz\nM 14.796875 27.296875 \nQ 14.796875 17.390625 18.875 11.75 \nQ 22.953125 6.109375 30.078125 6.109375 \nQ 37.203125 6.109375 41.296875 11.75 \nQ 45.40625 17.390625 45.40625 27.296875 \nQ 45.40625 37.203125 41.296875 42.84375 \nQ 37.203125 48.484375 30.078125 48.484375 \nQ 22.953125 48.484375 18.875 42.84375 \nQ 14.796875 37.203125 14.796875 27.296875 \nz\n\" id=\"DejaVuSans-100\"/>\n     </defs>\n     <g transform=\"translate(299.27 55.418312)scale(0.1 -0.1)\">\n      <use xlink:href=\"#DejaVuSans-86\"/>\n      <use x=\"68.298828\" xlink:href=\"#DejaVuSans-97\"/>\n      <use x=\"129.578125\" xlink:href=\"#DejaVuSans-108\"/>\n      <use x=\"157.361328\" xlink:href=\"#DejaVuSans-105\"/>\n      <use x=\"185.144531\" xlink:href=\"#DejaVuSans-100\"/>\n      <use x=\"248.621094\" xlink:href=\"#DejaVuSans-97\"/>\n      <use x=\"309.900391\" xlink:href=\"#DejaVuSans-116\"/>\n      <use x=\"349.109375\" xlink:href=\"#DejaVuSans-105\"/>\n      <use x=\"376.892578\" xlink:href=\"#DejaVuSans-111\"/>\n      <use x=\"438.074219\" xlink:href=\"#DejaVuSans-110\"/>\n      <use x=\"501.453125\" xlink:href=\"#DejaVuSans-32\"/>\n      <use x=\"533.240234\" xlink:href=\"#DejaVuSans-76\"/>\n      <use x=\"588.9375\" xlink:href=\"#DejaVuSans-111\"/>\n      <use x=\"650.119141\" xlink:href=\"#DejaVuSans-115\"/>\n      <use x=\"702.21875\" xlink:href=\"#DejaVuSans-115\"/>\n     </g>\n    </g>\n   </g>\n  </g>\n </g>\n <defs>\n  <clipPath id=\"pcb478e4ef0\">\n   <rect height=\"217.44\" width=\"334.8\" x=\"48.90125\" y=\"24.14175\"/>\n  </clipPath>\n </defs>\n</svg>\n",
            "text/plain": [
              "<Figure size 432x288 with 1 Axes>"
            ]
          },
          "metadata": {
            "tags": []
          }
        }
      ]
    },
    {
      "cell_type": "code",
      "metadata": {
        "Collapsed": "false",
        "id": "Jw0FwrrlRg28",
        "colab_type": "code",
        "colab": {}
      },
      "source": [
        ""
      ],
      "execution_count": 0,
      "outputs": []
    },
    {
      "cell_type": "markdown",
      "metadata": {
        "id": "iBtG5_kYSSxk",
        "colab_type": "text"
      },
      "source": [
        "![alt text](https://) "
      ]
    }
  ]
}